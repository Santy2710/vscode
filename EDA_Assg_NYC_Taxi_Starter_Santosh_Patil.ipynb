{
  "cells": [
    {
      "cell_type": "markdown",
      "metadata": {
        "id": "view-in-github",
        "colab_type": "text"
      },
      "source": [
        "<a href=\"https://colab.research.google.com/github/Santy2710/vscode/blob/main/EDA_Assg_NYC_Taxi_Starter_Santosh_Patil.ipynb\" target=\"_parent\"><img src=\"https://colab.research.google.com/assets/colab-badge.svg\" alt=\"Open In Colab\"/></a>"
      ]
    },
    {
      "cell_type": "markdown",
      "metadata": {
        "id": "ZQl5n2IOuafL"
      },
      "source": [
        "# **New York City Yellow Taxi Data**"
      ]
    },
    {
      "cell_type": "markdown",
      "metadata": {
        "id": "DGQVIB4mEFrZ"
      },
      "source": [
        "## Objective\n",
        "In this case study you will be learning exploratory data analysis (EDA) with the help of a dataset on yellow taxi rides in New York City. This will enable you to understand why EDA is an important step in the process of data science and machine learning."
      ]
    },
    {
      "cell_type": "markdown",
      "metadata": {
        "id": "YJVMenVllLUL"
      },
      "source": [
        "## **Problem Statement**\n",
        "As an analyst at an upcoming taxi operation in NYC, you are tasked to use the 2023 taxi trip data to uncover insights that could help optimise taxi operations. The goal is to analyse patterns in the data that can inform strategic decisions to improve service efficiency, maximise revenue, and enhance passenger experience."
      ]
    },
    {
      "cell_type": "markdown",
      "metadata": {
        "id": "-OVfUMlHFkZD"
      },
      "source": [
        "## Tasks\n",
        "You need to perform the following steps for successfully completing this assignment:\n",
        "1. Data Loading\n",
        "2. Data Cleaning\n",
        "3. Exploratory Analysis: Bivariate and Multivariate\n",
        "4. Creating Visualisations to Support the Analysis\n",
        "5. Deriving Insights and Stating Conclusions"
      ]
    },
    {
      "cell_type": "markdown",
      "metadata": {
        "id": "gTxV-3GJUhWm"
      },
      "source": [
        "---"
      ]
    },
    {
      "cell_type": "markdown",
      "metadata": {
        "id": "ofebI8ITG-Li"
      },
      "source": [
        "**NOTE:** The marks given along with headings and sub-headings are cumulative marks for those particular headings/sub-headings.<br>\n",
        "\n",
        "The actual marks for each task are specified within the tasks themselves.\n",
        "\n",
        "For example, marks given with heading *2* or sub-heading *2.1* are the cumulative marks, for your reference only. <br>\n",
        "\n",
        "The marks you will receive for completing tasks are given with the tasks.\n",
        "\n",
        "Suppose the marks for two tasks are: 3 marks for 2.1.1 and 2 marks for 3.2.2, or\n",
        "* 2.1.1 [3 marks]\n",
        "* 3.2.2 [2 marks]\n",
        "\n",
        "then, you will earn 3 marks for completing task 2.1.1 and 2 marks for completing task 3.2.2.\n"
      ]
    },
    {
      "cell_type": "markdown",
      "metadata": {
        "id": "YdQjht7dUiHt"
      },
      "source": [
        "---"
      ]
    },
    {
      "cell_type": "markdown",
      "metadata": {
        "id": "0eaCZjHIvfuI"
      },
      "source": [
        "## Data Understanding\n",
        "The yellow taxi trip records include fields capturing pick-up and drop-off dates/times, pick-up and drop-off locations, trip distances, itemized fares, rate types, payment types, and driver-reported passenger counts.\n",
        "\n",
        "The data is stored in Parquet format (*.parquet*). The dataset is from 2009 to 2024. However, for this assignment, we will only be using the data from 2023.\n",
        "\n",
        "The data for each month is present in a different parquet file. You will get twelve files for each of the months in 2023.\n",
        "\n",
        "The data was collected and provided to the NYC Taxi and Limousine Commission (TLC) by technology providers like vendors and taxi hailing apps. <br>\n",
        "\n",
        "You can find the link to the TLC trip records page here: https://www.nyc.gov/site/tlc/about/tlc-trip-record-data.page"
      ]
    },
    {
      "cell_type": "markdown",
      "metadata": {
        "id": "LI6qC5IDxZU1"
      },
      "source": [
        "###  Data Description\n",
        "You can find the data description here: [Data Dictionary](https://www.nyc.gov/assets/tlc/downloads/pdf/data_dictionary_trip_records_yellow.pdf)"
      ]
    },
    {
      "cell_type": "markdown",
      "metadata": {
        "id": "FafCzrDuxHg2"
      },
      "source": [
        "**Trip Records**\n",
        "\n",
        "\n",
        "\n",
        "|Field Name       |description |\n",
        "|:----------------|:-----------|\n",
        "| VendorID | A code indicating the TPEP provider that provided the record. <br> 1= Creative Mobile Technologies, LLC; <br> 2= VeriFone Inc. |\n",
        "| tpep_pickup_datetime | The date and time when the meter was engaged.  |\n",
        "| tpep_dropoff_datetime | The date and time when the meter was disengaged.   |\n",
        "| Passenger_count | The number of passengers in the vehicle. <br> This is a driver-entered value. |\n",
        "| Trip_distance | The elapsed trip distance in miles reported by the taximeter. |\n",
        "| PULocationID | TLC Taxi Zone in which the taximeter was engaged |\n",
        "| DOLocationID | TLC Taxi Zone in which the taximeter was disengaged |\n",
        "|RateCodeID |The final rate code in effect at the end of the trip.<br> 1 = Standard rate <br> 2 = JFK <br> 3 = Newark <br>4 = Nassau or Westchester <br>5 = Negotiated fare <br>6 = Group ride |\n",
        "|Store_and_fwd_flag |This flag indicates whether the trip record was held in vehicle memory before sending to the vendor, aka “store and forward,” because the vehicle did not have a connection to the server.  <br>Y= store and forward trip <br>N= not a store and forward trip |\n",
        "|Payment_type| A numeric code signifying how the passenger paid for the trip. <br> 1 = Credit card <br>2 = Cash <br>3 = No charge <br>4 = Dispute <br>5 = Unknown <br>6 = Voided trip |\n",
        "|Fare_amount| The time-and-distance fare calculated by the meter. <br>Extra Miscellaneous extras and surcharges.  Currently, this only includes the 0.50 and 1 USD rush hour and overnight charges. |\n",
        "|MTA_tax |0.50 USD MTA tax that is automatically triggered based on the metered rate in use. |\n",
        "|Improvement_surcharge | 0.30 USD improvement surcharge assessed trips at the flag drop. The improvement surcharge began being levied in 2015. |\n",
        "|Tip_amount |Tip amount – This field is automatically populated for credit card tips. Cash tips are not included. |\n",
        "| Tolls_amount | Total amount of all tolls paid in trip.  |\n",
        "| total_amount | The total amount charged to passengers. Does not include cash tips. |\n",
        "|Congestion_Surcharge |Total amount collected in trip for NYS congestion surcharge. |\n",
        "| Airport_fee | 1.25 USD for pick up only at LaGuardia and John F. Kennedy Airports|\n",
        "\n",
        "Although the amounts of extra charges and taxes applied are specified in the data dictionary, you will see that some cases have different values of these charges in the actual data."
      ]
    },
    {
      "cell_type": "markdown",
      "metadata": {
        "id": "mL-FWYFnVEdE"
      },
      "source": [
        "**Taxi Zones**\n",
        "\n",
        "Each of the trip records contains a field corresponding to the location of the pickup or drop-off of the trip, populated by numbers ranging from 1-263.\n",
        "\n",
        "These numbers correspond to taxi zones, which may be downloaded as a table or map/shapefile and matched to the trip records using a join.\n",
        "\n",
        "This is covered in more detail in later sections."
      ]
    },
    {
      "cell_type": "markdown",
      "metadata": {
        "id": "z66W3s51U0gF"
      },
      "source": [
        "---"
      ]
    },
    {
      "cell_type": "markdown",
      "metadata": {
        "id": "Kw-WRzBfyS7j"
      },
      "source": [
        "## **1** Data Preparation\n",
        "\n",
        "<font color = red>[5 marks]</font> <br>"
      ]
    },
    {
      "cell_type": "markdown",
      "metadata": {
        "id": "nM2X-s6lycvQ"
      },
      "source": [
        "### Import Libraries"
      ]
    },
    {
      "cell_type": "code",
      "execution_count": null,
      "metadata": {
        "id": "juReqsAzEdW3"
      },
      "outputs": [],
      "source": [
        "# Import warnings\n",
        "import warnings\n",
        "warnings.filterwarnings('ignore')\n"
      ]
    },
    {
      "cell_type": "code",
      "execution_count": null,
      "metadata": {
        "id": "3XZjOlJiy1dr"
      },
      "outputs": [],
      "source": [
        "# Import the libraries you will be using for analysis\n",
        "import numpy as np\n",
        "import pandas as pd\n",
        "import matplotlib.pyplot as plt\n",
        "import seaborn as sns"
      ]
    },
    {
      "cell_type": "code",
      "execution_count": null,
      "metadata": {
        "id": "NsH5LNrSgW9q",
        "colab": {
          "base_uri": "https://localhost:8080/"
        },
        "outputId": "c0afe940-b348-42c6-da36-c23d8deee38e"
      },
      "outputs": [
        {
          "output_type": "stream",
          "name": "stdout",
          "text": [
            "numpy version: 2.0.2\n",
            "pandas version: 2.2.2\n",
            "matplotlib version: 3.10.0\n",
            "seaborn version: 0.13.2\n"
          ]
        }
      ],
      "source": [
        "# Recommended versions\n",
        "# numpy version: 1.26.4\n",
        "# pandas version: 2.2.2\n",
        "# matplotlib version: 3.10.0\n",
        "# seaborn version: 0.13.2\n",
        "\n",
        "# Check versions\n",
        "print(\"numpy version:\", np.__version__)\n",
        "print(\"pandas version:\", pd.__version__)\n",
        "print(\"matplotlib version:\", plt.matplotlib.__version__)\n",
        "print(\"seaborn version:\", sns.__version__)"
      ]
    },
    {
      "cell_type": "markdown",
      "metadata": {
        "id": "NgHgbPIepaYl"
      },
      "source": [
        "### **1.1** Load the dataset\n",
        "<font color = red>[5 marks]</font> <br>"
      ]
    },
    {
      "cell_type": "code",
      "source": [
        "from google.colab import drive\n",
        "drive.mount('/content/drive')"
      ],
      "metadata": {
        "id": "0yJLZ95xHGC5",
        "colab": {
          "base_uri": "https://localhost:8080/"
        },
        "outputId": "1009c1d6-441d-4d3f-e71b-e512e05b19c7"
      },
      "execution_count": null,
      "outputs": [
        {
          "output_type": "stream",
          "name": "stdout",
          "text": [
            "Drive already mounted at /content/drive; to attempt to forcibly remount, call drive.mount(\"/content/drive\", force_remount=True).\n"
          ]
        }
      ]
    },
    {
      "cell_type": "markdown",
      "metadata": {
        "id": "KrGluF_gpeHs"
      },
      "source": [
        "You will see twelve files, one for each month.\n",
        "\n",
        "To read parquet files with Pandas, you have to follow a similar syntax as that for CSV files.\n",
        "\n",
        "`df = pd.read_parquet('file.parquet')`"
      ]
    },
    {
      "cell_type": "code",
      "execution_count": null,
      "metadata": {
        "id": "kIpIsuSSzCp9",
        "colab": {
          "base_uri": "https://localhost:8080/"
        },
        "outputId": "70450220-94a1-4419-fb69-d7daf68657bd"
      },
      "outputs": [
        {
          "output_type": "stream",
          "name": "stdout",
          "text": [
            "<class 'pandas.core.frame.DataFrame'>\n",
            "Index: 3041714 entries, 0 to 3066765\n",
            "Data columns (total 19 columns):\n",
            " #   Column                 Dtype         \n",
            "---  ------                 -----         \n",
            " 0   VendorID               int64         \n",
            " 1   tpep_pickup_datetime   datetime64[us]\n",
            " 2   tpep_dropoff_datetime  datetime64[us]\n",
            " 3   passenger_count        float64       \n",
            " 4   trip_distance          float64       \n",
            " 5   RatecodeID             float64       \n",
            " 6   store_and_fwd_flag     object        \n",
            " 7   PULocationID           int64         \n",
            " 8   DOLocationID           int64         \n",
            " 9   payment_type           int64         \n",
            " 10  fare_amount            float64       \n",
            " 11  extra                  float64       \n",
            " 12  mta_tax                float64       \n",
            " 13  tip_amount             float64       \n",
            " 14  tolls_amount           float64       \n",
            " 15  improvement_surcharge  float64       \n",
            " 16  total_amount           float64       \n",
            " 17  congestion_surcharge   float64       \n",
            " 18  airport_fee            float64       \n",
            "dtypes: datetime64[us](2), float64(12), int64(4), object(1)\n",
            "memory usage: 464.1+ MB\n"
          ]
        }
      ],
      "source": [
        "# Try loading one file\n",
        "df = pd.read_parquet('/content/drive/MyDrive/Colab Notebooks/trip_records/2023-1.parquet')\n",
        "df.info()"
      ]
    },
    {
      "cell_type": "markdown",
      "metadata": {
        "id": "eh-keWIyqcyr"
      },
      "source": [
        "How many rows are there? Do you think handling such a large number of rows is computationally feasible when we have to combine the data for all twelve months into one?\n",
        "\n",
        "To handle this, we need to sample a fraction of data from each of the files. How to go about that? Think of a way to select only some portion of the data from each month's file that accurately represents the trends."
      ]
    },
    {
      "cell_type": "markdown",
      "metadata": {
        "id": "zHx7lh_3QGmj"
      },
      "source": [
        "#### Sampling the Data\n",
        "> One way is to take a small percentage of entries for pickup in every hour of a date. So, for all the days in a month, we can iterate through the hours and select 5% values randomly from those. Use `tpep_pickup_datetime` for this. Separate date and hour from the datetime values and then for each date, select some fraction of trips for each of the 24 hours.\n",
        "\n",
        "To sample data, you can use the `sample()` method. Follow this syntax:\n",
        "\n",
        "```Python\n",
        "# sampled_data is an empty DF to keep appending sampled data of each hour\n",
        "# hour_data is the DF of entries for an hour 'X' on a date 'Y'\n",
        "\n",
        "sample = hour_data.sample(frac = 0.05, random_state = 42)\n",
        "# sample 0.05 of the hour_data\n",
        "# random_state is just a seed for sampling, you can define it yourself\n",
        "\n",
        "sampled_data = pd.concat([sampled_data, sample]) # adding data for this hour to the DF\n",
        "```\n",
        "\n",
        "This *sampled_data* will contain 5% values selected at random from each hour.\n",
        "\n",
        "Note that the code given above is only the part that will be used for sampling and not the complete code required for sampling and combining the data files.\n",
        "\n",
        "Keep in mind that you sample by date AND hour, not just hour. (Why?)"
      ]
    },
    {
      "cell_type": "markdown",
      "metadata": {
        "id": "3zog80nsqvKp"
      },
      "source": [
        "---"
      ]
    },
    {
      "cell_type": "markdown",
      "metadata": {
        "id": "Fp24-wpQrlC5"
      },
      "source": [
        "**1.1.1** <font color = red>[5 marks]</font> <br>\n",
        "Figure out how to sample and combine the files."
      ]
    },
    {
      "cell_type": "markdown",
      "metadata": {
        "id": "vRGOnciGOvq0"
      },
      "source": [
        "**Note:** It is not mandatory to use the method specified above. While sampling, you only need to make sure that your sampled data represents the overall data of all the months accurately."
      ]
    },
    {
      "cell_type": "code",
      "execution_count": null,
      "metadata": {
        "id": "3cpuzPFvP2iC"
      },
      "outputs": [],
      "source": [
        "# Sample the data\n",
        "# It is recommmended to not load all the files at once to avoid memory overload"
      ]
    },
    {
      "cell_type": "code",
      "execution_count": null,
      "metadata": {
        "id": "h3x5bCWmarTO"
      },
      "outputs": [],
      "source": [
        "# from google.colab import drive\n",
        "# drive.mount('/content/drive')"
      ]
    },
    {
      "cell_type": "code",
      "source": [
        "import os\n",
        "\n",
        "# Select the folder having data files\n",
        "#os.chdir('/content/Assignments/EDA/data_NYC_Taxi/trip_records')\n",
        "os.chdir('/content/drive/MyDrive/Colab Notebooks/trip_records')\n",
        "\n",
        "# Create a list of all the twelve files to read\n",
        "file_list = os.listdir()\n",
        "print(file_list)"
      ],
      "metadata": {
        "colab": {
          "base_uri": "https://localhost:8080/"
        },
        "id": "QzR0zhi5Yj46",
        "outputId": "75ca7f8b-179f-4792-cfa5-c8e416f2b3c9"
      },
      "execution_count": null,
      "outputs": [
        {
          "output_type": "stream",
          "name": "stdout",
          "text": [
            "['2023-9.parquet', '2023-5.parquet', '2023-6.parquet', '2023-2.parquet', '2023-1.parquet', '2023-8.parquet', '2023-7.parquet', '2023-10.parquet', '2023-3.parquet', '2023-12.parquet', '2023-4.parquet', '2023-11.parquet', '.ipynb_checkpoints']\n"
          ]
        }
      ]
    },
    {
      "cell_type": "code",
      "source": [
        "# Take a small percentage of entries from each hour of every date.\n",
        "# Iterating through the monthly data:\n",
        "#   read a month file -> day -> hour: append sampled data -> move to next hour -> move to next day after 24 hours -> move to next month file\n",
        "# Create a single dataframe for the year combining all the monthly data\n",
        "\n",
        "# Select the folder having data files\n",
        "import os\n",
        "\n",
        "# Select the folder having data files\n",
        "#os.chdir('/content/Assignments/EDA/data_NYC_Taxi/trip_records')\n",
        "os.chdir('/content/drive/MyDrive/Colab Notebooks/trip_records')\n",
        "\n",
        "# Create a list of all the twelve files to read\n",
        "file_list = os.listdir()\n",
        "\n",
        "# initialise an empty dataframe\n",
        "df = pd.DataFrame()\n",
        "\n",
        "# iterate through the list of files and sample one by one:\n",
        "for file_name in file_list:\n",
        "    try:\n",
        "        # file path for the current file\n",
        "        file_path = os.path.join(os.getcwd(), file_name)\n",
        "\n",
        "        # Reading the current file\n",
        "        df_month = pd.read_parquet(file_path)\n",
        "\n",
        "        # We will store the sampled data for the current date in this df by appending the sampled data from each hour to this\n",
        "        # After completing iteration through each date, we will append this data to the final dataframe.\n",
        "        sampled_data = pd.DataFrame()\n",
        "\n",
        "        # Loop through dates and then loop through every hour of each date\n",
        "        for date in df_month['tpep_pickup_datetime'].dt.date.unique():\n",
        "          # Iterate through each hour of the selected date\n",
        "\n",
        "          for hour in range(0,24):\n",
        "            hour_data = df_month[(df_month['tpep_pickup_datetime'].dt.date == date) & (df_month['tpep_pickup_datetime'].dt.hour == hour)]\n",
        "            # Sample 5% of the hourly data randomly\n",
        "            sample = hour_data.sample(frac=0.05, random_state=42)\n",
        "            # Append the sampled data to the dataframe\n",
        "            sampled_data = pd.concat([sampled_data, sample])\n",
        "\n",
        "        # add data of this hour to the dataframe\n",
        "        # Concatenate the sampled data of all the dates to a single dataframe\n",
        "        df01 = pd.concat([df,sampled_data])\n",
        "\n",
        "    except Exception as e:\n",
        "        print(f\"Error reading file {file_name}: {e}\")"
      ],
      "metadata": {
        "id": "nXeo2Ilt92DW",
        "colab": {
          "base_uri": "https://localhost:8080/",
          "height": 412
        },
        "outputId": "f5ced894-6d9f-4297-94b9-d2be6bd32224"
      },
      "execution_count": null,
      "outputs": [
        {
          "output_type": "error",
          "ename": "KeyboardInterrupt",
          "evalue": "",
          "traceback": [
            "\u001b[0;31m---------------------------------------------------------------------------\u001b[0m",
            "\u001b[0;31mKeyboardInterrupt\u001b[0m                         Traceback (most recent call last)",
            "\u001b[0;32m<ipython-input-21-300290e20cb9>\u001b[0m in \u001b[0;36m<cell line: 0>\u001b[0;34m()\u001b[0m\n\u001b[1;32m     35\u001b[0m \u001b[0;34m\u001b[0m\u001b[0m\n\u001b[1;32m     36\u001b[0m           \u001b[0;32mfor\u001b[0m \u001b[0mhour\u001b[0m \u001b[0;32min\u001b[0m \u001b[0mrange\u001b[0m\u001b[0;34m(\u001b[0m\u001b[0;36m0\u001b[0m\u001b[0;34m,\u001b[0m\u001b[0;36m24\u001b[0m\u001b[0;34m)\u001b[0m\u001b[0;34m:\u001b[0m\u001b[0;34m\u001b[0m\u001b[0;34m\u001b[0m\u001b[0m\n\u001b[0;32m---> 37\u001b[0;31m             \u001b[0mhour_data\u001b[0m \u001b[0;34m=\u001b[0m \u001b[0mdf_month\u001b[0m\u001b[0;34m[\u001b[0m\u001b[0;34m(\u001b[0m\u001b[0mdf_month\u001b[0m\u001b[0;34m[\u001b[0m\u001b[0;34m'tpep_pickup_datetime'\u001b[0m\u001b[0;34m]\u001b[0m\u001b[0;34m.\u001b[0m\u001b[0mdt\u001b[0m\u001b[0;34m.\u001b[0m\u001b[0mdate\u001b[0m \u001b[0;34m==\u001b[0m \u001b[0mdate\u001b[0m\u001b[0;34m)\u001b[0m \u001b[0;34m&\u001b[0m \u001b[0;34m(\u001b[0m\u001b[0mdf_month\u001b[0m\u001b[0;34m[\u001b[0m\u001b[0;34m'tpep_pickup_datetime'\u001b[0m\u001b[0;34m]\u001b[0m\u001b[0;34m.\u001b[0m\u001b[0mdt\u001b[0m\u001b[0;34m.\u001b[0m\u001b[0mhour\u001b[0m \u001b[0;34m==\u001b[0m \u001b[0mhour\u001b[0m\u001b[0;34m)\u001b[0m\u001b[0;34m]\u001b[0m\u001b[0;34m\u001b[0m\u001b[0;34m\u001b[0m\u001b[0m\n\u001b[0m\u001b[1;32m     38\u001b[0m             \u001b[0;31m# Sample 5% of the hourly data randomly\u001b[0m\u001b[0;34m\u001b[0m\u001b[0;34m\u001b[0m\u001b[0m\n\u001b[1;32m     39\u001b[0m             \u001b[0msample\u001b[0m \u001b[0;34m=\u001b[0m \u001b[0mhour_data\u001b[0m\u001b[0;34m.\u001b[0m\u001b[0msample\u001b[0m\u001b[0;34m(\u001b[0m\u001b[0mfrac\u001b[0m\u001b[0;34m=\u001b[0m\u001b[0;36m0.05\u001b[0m\u001b[0;34m,\u001b[0m \u001b[0mrandom_state\u001b[0m\u001b[0;34m=\u001b[0m\u001b[0;36m42\u001b[0m\u001b[0;34m)\u001b[0m\u001b[0;34m\u001b[0m\u001b[0;34m\u001b[0m\u001b[0m\n",
            "\u001b[0;32m/usr/local/lib/python3.11/dist-packages/pandas/core/ops/common.py\u001b[0m in \u001b[0;36mnew_method\u001b[0;34m(self, other)\u001b[0m\n\u001b[1;32m     74\u001b[0m         \u001b[0mother\u001b[0m \u001b[0;34m=\u001b[0m \u001b[0mitem_from_zerodim\u001b[0m\u001b[0;34m(\u001b[0m\u001b[0mother\u001b[0m\u001b[0;34m)\u001b[0m\u001b[0;34m\u001b[0m\u001b[0;34m\u001b[0m\u001b[0m\n\u001b[1;32m     75\u001b[0m \u001b[0;34m\u001b[0m\u001b[0m\n\u001b[0;32m---> 76\u001b[0;31m         \u001b[0;32mreturn\u001b[0m \u001b[0mmethod\u001b[0m\u001b[0;34m(\u001b[0m\u001b[0mself\u001b[0m\u001b[0;34m,\u001b[0m \u001b[0mother\u001b[0m\u001b[0;34m)\u001b[0m\u001b[0;34m\u001b[0m\u001b[0;34m\u001b[0m\u001b[0m\n\u001b[0m\u001b[1;32m     77\u001b[0m \u001b[0;34m\u001b[0m\u001b[0m\n\u001b[1;32m     78\u001b[0m     \u001b[0;32mreturn\u001b[0m \u001b[0mnew_method\u001b[0m\u001b[0;34m\u001b[0m\u001b[0;34m\u001b[0m\u001b[0m\n",
            "\u001b[0;32m/usr/local/lib/python3.11/dist-packages/pandas/core/arraylike.py\u001b[0m in \u001b[0;36m__eq__\u001b[0;34m(self, other)\u001b[0m\n\u001b[1;32m     38\u001b[0m     \u001b[0;34m@\u001b[0m\u001b[0munpack_zerodim_and_defer\u001b[0m\u001b[0;34m(\u001b[0m\u001b[0;34m\"__eq__\"\u001b[0m\u001b[0;34m)\u001b[0m\u001b[0;34m\u001b[0m\u001b[0;34m\u001b[0m\u001b[0m\n\u001b[1;32m     39\u001b[0m     \u001b[0;32mdef\u001b[0m \u001b[0m__eq__\u001b[0m\u001b[0;34m(\u001b[0m\u001b[0mself\u001b[0m\u001b[0;34m,\u001b[0m \u001b[0mother\u001b[0m\u001b[0;34m)\u001b[0m\u001b[0;34m:\u001b[0m\u001b[0;34m\u001b[0m\u001b[0;34m\u001b[0m\u001b[0m\n\u001b[0;32m---> 40\u001b[0;31m         \u001b[0;32mreturn\u001b[0m \u001b[0mself\u001b[0m\u001b[0;34m.\u001b[0m\u001b[0m_cmp_method\u001b[0m\u001b[0;34m(\u001b[0m\u001b[0mother\u001b[0m\u001b[0;34m,\u001b[0m \u001b[0moperator\u001b[0m\u001b[0;34m.\u001b[0m\u001b[0meq\u001b[0m\u001b[0;34m)\u001b[0m\u001b[0;34m\u001b[0m\u001b[0;34m\u001b[0m\u001b[0m\n\u001b[0m\u001b[1;32m     41\u001b[0m \u001b[0;34m\u001b[0m\u001b[0m\n\u001b[1;32m     42\u001b[0m     \u001b[0;34m@\u001b[0m\u001b[0munpack_zerodim_and_defer\u001b[0m\u001b[0;34m(\u001b[0m\u001b[0;34m\"__ne__\"\u001b[0m\u001b[0;34m)\u001b[0m\u001b[0;34m\u001b[0m\u001b[0;34m\u001b[0m\u001b[0m\n",
            "\u001b[0;32m/usr/local/lib/python3.11/dist-packages/pandas/core/series.py\u001b[0m in \u001b[0;36m_cmp_method\u001b[0;34m(self, other, op)\u001b[0m\n\u001b[1;32m   6117\u001b[0m         \u001b[0mrvalues\u001b[0m \u001b[0;34m=\u001b[0m \u001b[0mextract_array\u001b[0m\u001b[0;34m(\u001b[0m\u001b[0mother\u001b[0m\u001b[0;34m,\u001b[0m \u001b[0mextract_numpy\u001b[0m\u001b[0;34m=\u001b[0m\u001b[0;32mTrue\u001b[0m\u001b[0;34m,\u001b[0m \u001b[0mextract_range\u001b[0m\u001b[0;34m=\u001b[0m\u001b[0;32mTrue\u001b[0m\u001b[0;34m)\u001b[0m\u001b[0;34m\u001b[0m\u001b[0;34m\u001b[0m\u001b[0m\n\u001b[1;32m   6118\u001b[0m \u001b[0;34m\u001b[0m\u001b[0m\n\u001b[0;32m-> 6119\u001b[0;31m         \u001b[0mres_values\u001b[0m \u001b[0;34m=\u001b[0m \u001b[0mops\u001b[0m\u001b[0;34m.\u001b[0m\u001b[0mcomparison_op\u001b[0m\u001b[0;34m(\u001b[0m\u001b[0mlvalues\u001b[0m\u001b[0;34m,\u001b[0m \u001b[0mrvalues\u001b[0m\u001b[0;34m,\u001b[0m \u001b[0mop\u001b[0m\u001b[0;34m)\u001b[0m\u001b[0;34m\u001b[0m\u001b[0;34m\u001b[0m\u001b[0m\n\u001b[0m\u001b[1;32m   6120\u001b[0m \u001b[0;34m\u001b[0m\u001b[0m\n\u001b[1;32m   6121\u001b[0m         \u001b[0;32mreturn\u001b[0m \u001b[0mself\u001b[0m\u001b[0;34m.\u001b[0m\u001b[0m_construct_result\u001b[0m\u001b[0;34m(\u001b[0m\u001b[0mres_values\u001b[0m\u001b[0;34m,\u001b[0m \u001b[0mname\u001b[0m\u001b[0;34m=\u001b[0m\u001b[0mres_name\u001b[0m\u001b[0;34m)\u001b[0m\u001b[0;34m\u001b[0m\u001b[0;34m\u001b[0m\u001b[0m\n",
            "\u001b[0;32m/usr/local/lib/python3.11/dist-packages/pandas/core/ops/array_ops.py\u001b[0m in \u001b[0;36mcomparison_op\u001b[0;34m(left, right, op)\u001b[0m\n\u001b[1;32m    342\u001b[0m \u001b[0;34m\u001b[0m\u001b[0m\n\u001b[1;32m    343\u001b[0m     \u001b[0;32melif\u001b[0m \u001b[0mlvalues\u001b[0m\u001b[0;34m.\u001b[0m\u001b[0mdtype\u001b[0m \u001b[0;34m==\u001b[0m \u001b[0mobject\u001b[0m \u001b[0;32mor\u001b[0m \u001b[0misinstance\u001b[0m\u001b[0;34m(\u001b[0m\u001b[0mrvalues\u001b[0m\u001b[0;34m,\u001b[0m \u001b[0mstr\u001b[0m\u001b[0;34m)\u001b[0m\u001b[0;34m:\u001b[0m\u001b[0;34m\u001b[0m\u001b[0;34m\u001b[0m\u001b[0m\n\u001b[0;32m--> 344\u001b[0;31m         \u001b[0mres_values\u001b[0m \u001b[0;34m=\u001b[0m \u001b[0mcomp_method_OBJECT_ARRAY\u001b[0m\u001b[0;34m(\u001b[0m\u001b[0mop\u001b[0m\u001b[0;34m,\u001b[0m \u001b[0mlvalues\u001b[0m\u001b[0;34m,\u001b[0m \u001b[0mrvalues\u001b[0m\u001b[0;34m)\u001b[0m\u001b[0;34m\u001b[0m\u001b[0;34m\u001b[0m\u001b[0m\n\u001b[0m\u001b[1;32m    345\u001b[0m \u001b[0;34m\u001b[0m\u001b[0m\n\u001b[1;32m    346\u001b[0m     \u001b[0;32melse\u001b[0m\u001b[0;34m:\u001b[0m\u001b[0;34m\u001b[0m\u001b[0;34m\u001b[0m\u001b[0m\n",
            "\u001b[0;32m/usr/local/lib/python3.11/dist-packages/pandas/core/ops/array_ops.py\u001b[0m in \u001b[0;36mcomp_method_OBJECT_ARRAY\u001b[0;34m(op, x, y)\u001b[0m\n\u001b[1;32m    127\u001b[0m         \u001b[0mresult\u001b[0m \u001b[0;34m=\u001b[0m \u001b[0mlibops\u001b[0m\u001b[0;34m.\u001b[0m\u001b[0mvec_compare\u001b[0m\u001b[0;34m(\u001b[0m\u001b[0mx\u001b[0m\u001b[0;34m.\u001b[0m\u001b[0mravel\u001b[0m\u001b[0;34m(\u001b[0m\u001b[0;34m)\u001b[0m\u001b[0;34m,\u001b[0m \u001b[0my\u001b[0m\u001b[0;34m.\u001b[0m\u001b[0mravel\u001b[0m\u001b[0;34m(\u001b[0m\u001b[0;34m)\u001b[0m\u001b[0;34m,\u001b[0m \u001b[0mop\u001b[0m\u001b[0;34m)\u001b[0m\u001b[0;34m\u001b[0m\u001b[0;34m\u001b[0m\u001b[0m\n\u001b[1;32m    128\u001b[0m     \u001b[0;32melse\u001b[0m\u001b[0;34m:\u001b[0m\u001b[0;34m\u001b[0m\u001b[0;34m\u001b[0m\u001b[0m\n\u001b[0;32m--> 129\u001b[0;31m         \u001b[0mresult\u001b[0m \u001b[0;34m=\u001b[0m \u001b[0mlibops\u001b[0m\u001b[0;34m.\u001b[0m\u001b[0mscalar_compare\u001b[0m\u001b[0;34m(\u001b[0m\u001b[0mx\u001b[0m\u001b[0;34m.\u001b[0m\u001b[0mravel\u001b[0m\u001b[0;34m(\u001b[0m\u001b[0;34m)\u001b[0m\u001b[0;34m,\u001b[0m \u001b[0my\u001b[0m\u001b[0;34m,\u001b[0m \u001b[0mop\u001b[0m\u001b[0;34m)\u001b[0m\u001b[0;34m\u001b[0m\u001b[0;34m\u001b[0m\u001b[0m\n\u001b[0m\u001b[1;32m    130\u001b[0m     \u001b[0;32mreturn\u001b[0m \u001b[0mresult\u001b[0m\u001b[0;34m.\u001b[0m\u001b[0mreshape\u001b[0m\u001b[0;34m(\u001b[0m\u001b[0mx\u001b[0m\u001b[0;34m.\u001b[0m\u001b[0mshape\u001b[0m\u001b[0;34m)\u001b[0m\u001b[0;34m\u001b[0m\u001b[0;34m\u001b[0m\u001b[0m\n\u001b[1;32m    131\u001b[0m \u001b[0;34m\u001b[0m\u001b[0m\n",
            "\u001b[0;31mKeyboardInterrupt\u001b[0m: "
          ]
        }
      ]
    },
    {
      "cell_type": "code",
      "execution_count": null,
      "metadata": {
        "id": "t1EXP0PHzPs0",
        "colab": {
          "base_uri": "https://localhost:8080/"
        },
        "outputId": "8295fea9-4094-4b5f-b8af-817b189d2b01"
      },
      "outputs": [
        {
          "output_type": "stream",
          "name": "stdout",
          "text": [
            "Error reading file .ipynb_checkpoints: 'tpep_pickup_datetime'\n"
          ]
        }
      ],
      "source": [
        "# Take a small percentage of entries from each hour of every date.\n",
        "# Iterating through the monthly data:\n",
        "#   read a month file -> day -> hour: append sampled data -> move to next hour -> move to next day after 24 hours -> move to next month file\n",
        "# Create a single dataframe for the year combining all the monthly data\n",
        "\n",
        "# Select the folder having data files\n",
        "import os\n",
        "\n",
        "# Select the folder having data files\n",
        "#os.chdir('/content/Assignments/EDA/data_NYC_Taxi/trip_records')\n",
        "os.chdir('/content/drive/MyDrive/Colab Notebooks/trip_records')\n",
        "\n",
        "# Create a list of all the twelve files to read\n",
        "file_list = os.listdir()\n",
        "\n",
        "# initialise an empty dataframe\n",
        "df = pd.DataFrame()\n",
        "\n",
        "# iterate through the list of files and sample one by one:\n",
        "for file_name in file_list:\n",
        "    try:\n",
        "        # file path for the current file\n",
        "        file_path = os.path.join(os.getcwd(), file_name)\n",
        "\n",
        "        # Reading the current file\n",
        "        df_month = pd.read_parquet(file_path)\n",
        "\n",
        "        # We will store the sampled data for the current date in this df by appending the sampled data from each hour to this\n",
        "        # After completing iteration through each date, we will append this data to the final dataframe.\n",
        "        sampled_data = pd.DataFrame()\n",
        "\n",
        "        # Loop through dates and then loop through every hour of each date\n",
        "        for date in df_month['tpep_pickup_datetime'].dt.date.unique():\n",
        "          # Iterate through each hour of the selected date\n",
        "\n",
        "          if date.month == 1:\n",
        "            for hour in range(0,2):\n",
        "              hour_data = df_month[(df_month['tpep_pickup_datetime'].dt.date == date) & (df_month['tpep_pickup_datetime'].dt.hour == hour)]\n",
        "              # Sample 5% of the hourly data randomly\n",
        "\n",
        "              sample = hour_data.sample(frac=0.05, random_state=42)\n",
        "              # Append the sampled data to the dataframe\n",
        "              sampled_data = pd.concat([sampled_data, sample])\n",
        "\n",
        "          if date.month == 2:\n",
        "            for hour in range(2,4):\n",
        "              hour_data = df_month[(df_month['tpep_pickup_datetime'].dt.date == date) & (df_month['tpep_pickup_datetime'].dt.hour == hour)]\n",
        "              # Sample 5% of the hourly data randomly\n",
        "\n",
        "              sample = hour_data.sample(frac=0.05, random_state=42)\n",
        "              # Append the sampled data to the dataframe\n",
        "              sampled_data = pd.concat([sampled_data, sample])\n",
        "\n",
        "          if date.month == 3:\n",
        "            for hour in range(4,6):\n",
        "              hour_data = df_month[(df_month['tpep_pickup_datetime'].dt.date == date) & (df_month['tpep_pickup_datetime'].dt.hour == hour)]\n",
        "              # Sample 5% of the hourly data randomly\n",
        "\n",
        "              sample = hour_data.sample(frac=0.05, random_state=42)\n",
        "              # Append the sampled data to the dataframe\n",
        "              sampled_data = pd.concat([sampled_data, sample])\n",
        "\n",
        "          if date.month == 4:\n",
        "            for hour in range(6,8):\n",
        "              hour_data = df_month[(df_month['tpep_pickup_datetime'].dt.date == date) & (df_month['tpep_pickup_datetime'].dt.hour == hour)]\n",
        "              # Sample 5% of the hourly data randomly\n",
        "\n",
        "              sample = hour_data.sample(frac=0.05, random_state=42)\n",
        "              # Append the sampled data to the dataframe\n",
        "              sampled_data = pd.concat([sampled_data, sample])\n",
        "\n",
        "          if date.month == 5:\n",
        "            for hour in range(8,10):\n",
        "              hour_data = df_month[(df_month['tpep_pickup_datetime'].dt.date == date) & (df_month['tpep_pickup_datetime'].dt.hour == hour)]\n",
        "              # Sample 5% of the hourly data randomly\n",
        "\n",
        "              sample = hour_data.sample(frac=0.05, random_state=42)\n",
        "              # Append the sampled data to the dataframe\n",
        "              sampled_data = pd.concat([sampled_data, sample])\n",
        "\n",
        "          if date.month == 6:\n",
        "            for hour in range(10,12):\n",
        "              hour_data = df_month[(df_month['tpep_pickup_datetime'].dt.date == date) & (df_month['tpep_pickup_datetime'].dt.hour == hour)]\n",
        "              # Sample 5% of the hourly data randomly\n",
        "\n",
        "              sample = hour_data.sample(frac=0.05, random_state=42)\n",
        "              # Append the sampled data to the dataframe\n",
        "              sampled_data = pd.concat([sampled_data, sample])\n",
        "\n",
        "          if date.month == 7:\n",
        "            for hour in range(12,14):\n",
        "              hour_data = df_month[(df_month['tpep_pickup_datetime'].dt.date == date) & (df_month['tpep_pickup_datetime'].dt.hour == hour)]\n",
        "              # Sample 5% of the hourly data randomly\n",
        "\n",
        "              sample = hour_data.sample(frac=0.05, random_state=42)\n",
        "              # Append the sampled data to the dataframe\n",
        "              sampled_data = pd.concat([sampled_data, sample])\n",
        "\n",
        "          if date.month == 8:\n",
        "            for hour in range(14,16):\n",
        "              hour_data = df_month[(df_month['tpep_pickup_datetime'].dt.date == date) & (df_month['tpep_pickup_datetime'].dt.hour == hour)]\n",
        "              # Sample 5% of the hourly data randomly\n",
        "\n",
        "              sample = hour_data.sample(frac=0.05, random_state=42)\n",
        "              # Append the sampled data to the dataframe\n",
        "              sampled_data = pd.concat([sampled_data, sample])\n",
        "\n",
        "          if date.month == 9:\n",
        "            for hour in range(16,18):\n",
        "              hour_data = df_month[(df_month['tpep_pickup_datetime'].dt.date == date) & (df_month['tpep_pickup_datetime'].dt.hour == hour)]\n",
        "              # Sample 5% of the hourly data randomly\n",
        "\n",
        "              sample = hour_data.sample(frac=0.05, random_state=42)\n",
        "              # Append the sampled data to the dataframe\n",
        "              sampled_data = pd.concat([sampled_data, sample])\n",
        "\n",
        "          if date.month == 10:\n",
        "            for hour in range(18,20):\n",
        "              hour_data = df_month[(df_month['tpep_pickup_datetime'].dt.date == date) & (df_month['tpep_pickup_datetime'].dt.hour == hour)]\n",
        "              # Sample 5% of the hourly data randomly\n",
        "\n",
        "              sample = hour_data.sample(frac=0.05, random_state=42)\n",
        "              # Append the sampled data to the dataframe\n",
        "              sampled_data = pd.concat([sampled_data, sample])\n",
        "\n",
        "          if date.month == 11:\n",
        "            for hour in range(20,22):\n",
        "              hour_data = df_month[(df_month['tpep_pickup_datetime'].dt.date == date) & (df_month['tpep_pickup_datetime'].dt.hour == hour)]\n",
        "              # Sample 5% of the hourly data randomly\n",
        "\n",
        "              sample = hour_data.sample(frac=0.05, random_state=42)\n",
        "              # Append the sampled data to the dataframe\n",
        "              sampled_data = pd.concat([sampled_data, sample])\n",
        "\n",
        "          if date.month == 12:\n",
        "            for hour in range(22,24):\n",
        "              hour_data = df_month[(df_month['tpep_pickup_datetime'].dt.date == date) & (df_month['tpep_pickup_datetime'].dt.hour == hour)]\n",
        "              # Sample 5% of the hourly data randomly\n",
        "\n",
        "              sample = hour_data.sample(frac=0.05, random_state=42)\n",
        "              # Append the sampled data to the dataframe\n",
        "              sampled_data = pd.concat([sampled_data, sample])\n",
        "\n",
        "        # add data of this hour to the dataframe\n",
        "        # Concatenate the sampled data of all the dates to a single dataframe\n",
        "        df = pd.concat([df,sampled_data])\n",
        "\n",
        "    except Exception as e:\n",
        "        print(f\"Error reading file {file_name}: {e}\")"
      ]
    },
    {
      "cell_type": "markdown",
      "metadata": {
        "id": "Sej6pZkzw2AK"
      },
      "source": [
        "After combining the data files into one DataFrame, convert the new DataFrame to a CSV or parquet file and store it to use directly.\n",
        "\n",
        "Ideally, you can try keeping the total entries to around 250,000 to 300,000."
      ]
    },
    {
      "cell_type": "code",
      "source": [
        "df.shape"
      ],
      "metadata": {
        "colab": {
          "base_uri": "https://localhost:8080/"
        },
        "id": "6CmqXt904wZW",
        "outputId": "ba0c9414-6113-42e0-c3e3-bf83ac82ac77"
      },
      "execution_count": null,
      "outputs": [
        {
          "output_type": "execute_result",
          "data": {
            "text/plain": [
              "(158675, 20)"
            ]
          },
          "metadata": {},
          "execution_count": 18
        }
      ]
    },
    {
      "cell_type": "code",
      "execution_count": null,
      "metadata": {
        "id": "okaVAsdPxJow",
        "colab": {
          "base_uri": "https://localhost:8080/",
          "height": 176
        },
        "outputId": "b6dfc7b9-ccc3-4b73-ebdd-bd8e99b68adb"
      },
      "outputs": [
        {
          "output_type": "error",
          "ename": "NameError",
          "evalue": "name 'df' is not defined",
          "traceback": [
            "\u001b[0;31m---------------------------------------------------------------------------\u001b[0m",
            "\u001b[0;31mNameError\u001b[0m                                 Traceback (most recent call last)",
            "\u001b[0;32m<ipython-input-4-7002f91f9a8d>\u001b[0m in \u001b[0;36m<cell line: 0>\u001b[0;34m()\u001b[0m\n\u001b[1;32m      1\u001b[0m \u001b[0;31m# Store the df in csv/parquet\u001b[0m\u001b[0;34m\u001b[0m\u001b[0;34m\u001b[0m\u001b[0m\n\u001b[1;32m      2\u001b[0m \u001b[0;31m#df.to_parquet('/content/drive/MyDrive/Colab Notebooks')\u001b[0m\u001b[0;34m\u001b[0m\u001b[0;34m\u001b[0m\u001b[0m\n\u001b[0;32m----> 3\u001b[0;31m \u001b[0mdf\u001b[0m\u001b[0;34m.\u001b[0m\u001b[0mto_csv\u001b[0m\u001b[0;34m(\u001b[0m\u001b[0;34m'/content/drive/MyDrive/Colab Notebooks/df_csv.csv'\u001b[0m\u001b[0;34m,\u001b[0m \u001b[0mindex\u001b[0m\u001b[0;34m=\u001b[0m\u001b[0;32mFalse\u001b[0m\u001b[0;34m)\u001b[0m\u001b[0;34m\u001b[0m\u001b[0;34m\u001b[0m\u001b[0m\n\u001b[0m",
            "\u001b[0;31mNameError\u001b[0m: name 'df' is not defined"
          ]
        }
      ],
      "source": [
        "# Store the df in csv/parquet\n",
        "#df.to_parquet('/content/drive/MyDrive/Colab Notebooks')\n",
        "df.to_csv('/content/drive/MyDrive/Colab Notebooks/df_csv.csv', index=False)"
      ]
    },
    {
      "cell_type": "markdown",
      "metadata": {
        "id": "QaOS3H9izZ0N"
      },
      "source": [
        "## **2** Data Cleaning\n",
        "<font color = red>[30 marks]</font> <br>"
      ]
    },
    {
      "cell_type": "markdown",
      "metadata": {
        "id": "5y3PKWqhxRA9"
      },
      "source": [
        "Now we can load the new data directly."
      ]
    },
    {
      "cell_type": "code",
      "execution_count": null,
      "metadata": {
        "id": "FOuOL0SDxQHd"
      },
      "outputs": [],
      "source": [
        "# Load the new data file\n",
        "df = pd.read_csv('/content/drive/MyDrive/Colab Notebooks/df_csv.csv')"
      ]
    },
    {
      "cell_type": "code",
      "execution_count": null,
      "metadata": {
        "id": "fbzmFKyn1780",
        "colab": {
          "base_uri": "https://localhost:8080/",
          "height": 226
        },
        "outputId": "bd08283d-dda9-41ad-e715-ee0634cfd0d5"
      },
      "outputs": [
        {
          "output_type": "execute_result",
          "data": {
            "text/plain": [
              "   VendorID tpep_pickup_datetime tpep_dropoff_datetime  passenger_count  \\\n",
              "0         2  2023-09-01 16:44:19   2023-09-01 17:53:41              2.0   \n",
              "1         1  2023-09-01 16:53:33   2023-09-01 17:03:59              1.0   \n",
              "2         1  2023-09-01 16:57:12   2023-09-01 17:11:48              1.0   \n",
              "3         2  2023-09-01 16:16:43   2023-09-01 17:23:39              1.0   \n",
              "4         2  2023-09-01 16:55:20   2023-09-01 17:23:18              6.0   \n",
              "\n",
              "   trip_distance  RatecodeID store_and_fwd_flag  PULocationID  DOLocationID  \\\n",
              "0          17.05         2.0                  N           162           132   \n",
              "1           1.10         2.0                  N           148           114   \n",
              "2           1.50         1.0                  N           107           211   \n",
              "3          18.28         1.0                  N           132            65   \n",
              "4          11.01         1.0                  N           138           230   \n",
              "\n",
              "   payment_type  fare_amount  extra  mta_tax  tip_amount  tolls_amount  \\\n",
              "0             2         70.0    5.0      0.5         0.0          6.94   \n",
              "1             1         70.0    7.5      0.5         8.0          0.00   \n",
              "2             1         14.2    5.0      0.5         4.1          0.00   \n",
              "3             1         78.6    2.5      0.5        10.0          0.00   \n",
              "4             1         44.3    7.5      0.5        12.9          6.94   \n",
              "\n",
              "   improvement_surcharge  total_amount  congestion_surcharge  Airport_fee  \\\n",
              "0                    1.0         85.94                   2.5         0.00   \n",
              "1                    1.0         87.00                   2.5         0.00   \n",
              "2                    1.0         24.80                   2.5         0.00   \n",
              "3                    1.0         94.35                   0.0         1.75   \n",
              "4                    1.0         77.39                   2.5         1.75   \n",
              "\n",
              "   airport_fee  \n",
              "0          NaN  \n",
              "1          NaN  \n",
              "2          NaN  \n",
              "3          NaN  \n",
              "4          NaN  "
            ],
            "text/html": [
              "\n",
              "  <div id=\"df-76448487-ad70-48da-8132-c90ff56d188d\" class=\"colab-df-container\">\n",
              "    <div>\n",
              "<style scoped>\n",
              "    .dataframe tbody tr th:only-of-type {\n",
              "        vertical-align: middle;\n",
              "    }\n",
              "\n",
              "    .dataframe tbody tr th {\n",
              "        vertical-align: top;\n",
              "    }\n",
              "\n",
              "    .dataframe thead th {\n",
              "        text-align: right;\n",
              "    }\n",
              "</style>\n",
              "<table border=\"1\" class=\"dataframe\">\n",
              "  <thead>\n",
              "    <tr style=\"text-align: right;\">\n",
              "      <th></th>\n",
              "      <th>VendorID</th>\n",
              "      <th>tpep_pickup_datetime</th>\n",
              "      <th>tpep_dropoff_datetime</th>\n",
              "      <th>passenger_count</th>\n",
              "      <th>trip_distance</th>\n",
              "      <th>RatecodeID</th>\n",
              "      <th>store_and_fwd_flag</th>\n",
              "      <th>PULocationID</th>\n",
              "      <th>DOLocationID</th>\n",
              "      <th>payment_type</th>\n",
              "      <th>fare_amount</th>\n",
              "      <th>extra</th>\n",
              "      <th>mta_tax</th>\n",
              "      <th>tip_amount</th>\n",
              "      <th>tolls_amount</th>\n",
              "      <th>improvement_surcharge</th>\n",
              "      <th>total_amount</th>\n",
              "      <th>congestion_surcharge</th>\n",
              "      <th>Airport_fee</th>\n",
              "      <th>airport_fee</th>\n",
              "    </tr>\n",
              "  </thead>\n",
              "  <tbody>\n",
              "    <tr>\n",
              "      <th>0</th>\n",
              "      <td>2</td>\n",
              "      <td>2023-09-01 16:44:19</td>\n",
              "      <td>2023-09-01 17:53:41</td>\n",
              "      <td>2.0</td>\n",
              "      <td>17.05</td>\n",
              "      <td>2.0</td>\n",
              "      <td>N</td>\n",
              "      <td>162</td>\n",
              "      <td>132</td>\n",
              "      <td>2</td>\n",
              "      <td>70.0</td>\n",
              "      <td>5.0</td>\n",
              "      <td>0.5</td>\n",
              "      <td>0.0</td>\n",
              "      <td>6.94</td>\n",
              "      <td>1.0</td>\n",
              "      <td>85.94</td>\n",
              "      <td>2.5</td>\n",
              "      <td>0.00</td>\n",
              "      <td>NaN</td>\n",
              "    </tr>\n",
              "    <tr>\n",
              "      <th>1</th>\n",
              "      <td>1</td>\n",
              "      <td>2023-09-01 16:53:33</td>\n",
              "      <td>2023-09-01 17:03:59</td>\n",
              "      <td>1.0</td>\n",
              "      <td>1.10</td>\n",
              "      <td>2.0</td>\n",
              "      <td>N</td>\n",
              "      <td>148</td>\n",
              "      <td>114</td>\n",
              "      <td>1</td>\n",
              "      <td>70.0</td>\n",
              "      <td>7.5</td>\n",
              "      <td>0.5</td>\n",
              "      <td>8.0</td>\n",
              "      <td>0.00</td>\n",
              "      <td>1.0</td>\n",
              "      <td>87.00</td>\n",
              "      <td>2.5</td>\n",
              "      <td>0.00</td>\n",
              "      <td>NaN</td>\n",
              "    </tr>\n",
              "    <tr>\n",
              "      <th>2</th>\n",
              "      <td>1</td>\n",
              "      <td>2023-09-01 16:57:12</td>\n",
              "      <td>2023-09-01 17:11:48</td>\n",
              "      <td>1.0</td>\n",
              "      <td>1.50</td>\n",
              "      <td>1.0</td>\n",
              "      <td>N</td>\n",
              "      <td>107</td>\n",
              "      <td>211</td>\n",
              "      <td>1</td>\n",
              "      <td>14.2</td>\n",
              "      <td>5.0</td>\n",
              "      <td>0.5</td>\n",
              "      <td>4.1</td>\n",
              "      <td>0.00</td>\n",
              "      <td>1.0</td>\n",
              "      <td>24.80</td>\n",
              "      <td>2.5</td>\n",
              "      <td>0.00</td>\n",
              "      <td>NaN</td>\n",
              "    </tr>\n",
              "    <tr>\n",
              "      <th>3</th>\n",
              "      <td>2</td>\n",
              "      <td>2023-09-01 16:16:43</td>\n",
              "      <td>2023-09-01 17:23:39</td>\n",
              "      <td>1.0</td>\n",
              "      <td>18.28</td>\n",
              "      <td>1.0</td>\n",
              "      <td>N</td>\n",
              "      <td>132</td>\n",
              "      <td>65</td>\n",
              "      <td>1</td>\n",
              "      <td>78.6</td>\n",
              "      <td>2.5</td>\n",
              "      <td>0.5</td>\n",
              "      <td>10.0</td>\n",
              "      <td>0.00</td>\n",
              "      <td>1.0</td>\n",
              "      <td>94.35</td>\n",
              "      <td>0.0</td>\n",
              "      <td>1.75</td>\n",
              "      <td>NaN</td>\n",
              "    </tr>\n",
              "    <tr>\n",
              "      <th>4</th>\n",
              "      <td>2</td>\n",
              "      <td>2023-09-01 16:55:20</td>\n",
              "      <td>2023-09-01 17:23:18</td>\n",
              "      <td>6.0</td>\n",
              "      <td>11.01</td>\n",
              "      <td>1.0</td>\n",
              "      <td>N</td>\n",
              "      <td>138</td>\n",
              "      <td>230</td>\n",
              "      <td>1</td>\n",
              "      <td>44.3</td>\n",
              "      <td>7.5</td>\n",
              "      <td>0.5</td>\n",
              "      <td>12.9</td>\n",
              "      <td>6.94</td>\n",
              "      <td>1.0</td>\n",
              "      <td>77.39</td>\n",
              "      <td>2.5</td>\n",
              "      <td>1.75</td>\n",
              "      <td>NaN</td>\n",
              "    </tr>\n",
              "  </tbody>\n",
              "</table>\n",
              "</div>\n",
              "    <div class=\"colab-df-buttons\">\n",
              "\n",
              "  <div class=\"colab-df-container\">\n",
              "    <button class=\"colab-df-convert\" onclick=\"convertToInteractive('df-76448487-ad70-48da-8132-c90ff56d188d')\"\n",
              "            title=\"Convert this dataframe to an interactive table.\"\n",
              "            style=\"display:none;\">\n",
              "\n",
              "  <svg xmlns=\"http://www.w3.org/2000/svg\" height=\"24px\" viewBox=\"0 -960 960 960\">\n",
              "    <path d=\"M120-120v-720h720v720H120Zm60-500h600v-160H180v160Zm220 220h160v-160H400v160Zm0 220h160v-160H400v160ZM180-400h160v-160H180v160Zm440 0h160v-160H620v160ZM180-180h160v-160H180v160Zm440 0h160v-160H620v160Z\"/>\n",
              "  </svg>\n",
              "    </button>\n",
              "\n",
              "  <style>\n",
              "    .colab-df-container {\n",
              "      display:flex;\n",
              "      gap: 12px;\n",
              "    }\n",
              "\n",
              "    .colab-df-convert {\n",
              "      background-color: #E8F0FE;\n",
              "      border: none;\n",
              "      border-radius: 50%;\n",
              "      cursor: pointer;\n",
              "      display: none;\n",
              "      fill: #1967D2;\n",
              "      height: 32px;\n",
              "      padding: 0 0 0 0;\n",
              "      width: 32px;\n",
              "    }\n",
              "\n",
              "    .colab-df-convert:hover {\n",
              "      background-color: #E2EBFA;\n",
              "      box-shadow: 0px 1px 2px rgba(60, 64, 67, 0.3), 0px 1px 3px 1px rgba(60, 64, 67, 0.15);\n",
              "      fill: #174EA6;\n",
              "    }\n",
              "\n",
              "    .colab-df-buttons div {\n",
              "      margin-bottom: 4px;\n",
              "    }\n",
              "\n",
              "    [theme=dark] .colab-df-convert {\n",
              "      background-color: #3B4455;\n",
              "      fill: #D2E3FC;\n",
              "    }\n",
              "\n",
              "    [theme=dark] .colab-df-convert:hover {\n",
              "      background-color: #434B5C;\n",
              "      box-shadow: 0px 1px 3px 1px rgba(0, 0, 0, 0.15);\n",
              "      filter: drop-shadow(0px 1px 2px rgba(0, 0, 0, 0.3));\n",
              "      fill: #FFFFFF;\n",
              "    }\n",
              "  </style>\n",
              "\n",
              "    <script>\n",
              "      const buttonEl =\n",
              "        document.querySelector('#df-76448487-ad70-48da-8132-c90ff56d188d button.colab-df-convert');\n",
              "      buttonEl.style.display =\n",
              "        google.colab.kernel.accessAllowed ? 'block' : 'none';\n",
              "\n",
              "      async function convertToInteractive(key) {\n",
              "        const element = document.querySelector('#df-76448487-ad70-48da-8132-c90ff56d188d');\n",
              "        const dataTable =\n",
              "          await google.colab.kernel.invokeFunction('convertToInteractive',\n",
              "                                                    [key], {});\n",
              "        if (!dataTable) return;\n",
              "\n",
              "        const docLinkHtml = 'Like what you see? Visit the ' +\n",
              "          '<a target=\"_blank\" href=https://colab.research.google.com/notebooks/data_table.ipynb>data table notebook</a>'\n",
              "          + ' to learn more about interactive tables.';\n",
              "        element.innerHTML = '';\n",
              "        dataTable['output_type'] = 'display_data';\n",
              "        await google.colab.output.renderOutput(dataTable, element);\n",
              "        const docLink = document.createElement('div');\n",
              "        docLink.innerHTML = docLinkHtml;\n",
              "        element.appendChild(docLink);\n",
              "      }\n",
              "    </script>\n",
              "  </div>\n",
              "\n",
              "\n",
              "<div id=\"df-d027efc2-9635-4289-840a-465e85972aa8\">\n",
              "  <button class=\"colab-df-quickchart\" onclick=\"quickchart('df-d027efc2-9635-4289-840a-465e85972aa8')\"\n",
              "            title=\"Suggest charts\"\n",
              "            style=\"display:none;\">\n",
              "\n",
              "<svg xmlns=\"http://www.w3.org/2000/svg\" height=\"24px\"viewBox=\"0 0 24 24\"\n",
              "     width=\"24px\">\n",
              "    <g>\n",
              "        <path d=\"M19 3H5c-1.1 0-2 .9-2 2v14c0 1.1.9 2 2 2h14c1.1 0 2-.9 2-2V5c0-1.1-.9-2-2-2zM9 17H7v-7h2v7zm4 0h-2V7h2v10zm4 0h-2v-4h2v4z\"/>\n",
              "    </g>\n",
              "</svg>\n",
              "  </button>\n",
              "\n",
              "<style>\n",
              "  .colab-df-quickchart {\n",
              "      --bg-color: #E8F0FE;\n",
              "      --fill-color: #1967D2;\n",
              "      --hover-bg-color: #E2EBFA;\n",
              "      --hover-fill-color: #174EA6;\n",
              "      --disabled-fill-color: #AAA;\n",
              "      --disabled-bg-color: #DDD;\n",
              "  }\n",
              "\n",
              "  [theme=dark] .colab-df-quickchart {\n",
              "      --bg-color: #3B4455;\n",
              "      --fill-color: #D2E3FC;\n",
              "      --hover-bg-color: #434B5C;\n",
              "      --hover-fill-color: #FFFFFF;\n",
              "      --disabled-bg-color: #3B4455;\n",
              "      --disabled-fill-color: #666;\n",
              "  }\n",
              "\n",
              "  .colab-df-quickchart {\n",
              "    background-color: var(--bg-color);\n",
              "    border: none;\n",
              "    border-radius: 50%;\n",
              "    cursor: pointer;\n",
              "    display: none;\n",
              "    fill: var(--fill-color);\n",
              "    height: 32px;\n",
              "    padding: 0;\n",
              "    width: 32px;\n",
              "  }\n",
              "\n",
              "  .colab-df-quickchart:hover {\n",
              "    background-color: var(--hover-bg-color);\n",
              "    box-shadow: 0 1px 2px rgba(60, 64, 67, 0.3), 0 1px 3px 1px rgba(60, 64, 67, 0.15);\n",
              "    fill: var(--button-hover-fill-color);\n",
              "  }\n",
              "\n",
              "  .colab-df-quickchart-complete:disabled,\n",
              "  .colab-df-quickchart-complete:disabled:hover {\n",
              "    background-color: var(--disabled-bg-color);\n",
              "    fill: var(--disabled-fill-color);\n",
              "    box-shadow: none;\n",
              "  }\n",
              "\n",
              "  .colab-df-spinner {\n",
              "    border: 2px solid var(--fill-color);\n",
              "    border-color: transparent;\n",
              "    border-bottom-color: var(--fill-color);\n",
              "    animation:\n",
              "      spin 1s steps(1) infinite;\n",
              "  }\n",
              "\n",
              "  @keyframes spin {\n",
              "    0% {\n",
              "      border-color: transparent;\n",
              "      border-bottom-color: var(--fill-color);\n",
              "      border-left-color: var(--fill-color);\n",
              "    }\n",
              "    20% {\n",
              "      border-color: transparent;\n",
              "      border-left-color: var(--fill-color);\n",
              "      border-top-color: var(--fill-color);\n",
              "    }\n",
              "    30% {\n",
              "      border-color: transparent;\n",
              "      border-left-color: var(--fill-color);\n",
              "      border-top-color: var(--fill-color);\n",
              "      border-right-color: var(--fill-color);\n",
              "    }\n",
              "    40% {\n",
              "      border-color: transparent;\n",
              "      border-right-color: var(--fill-color);\n",
              "      border-top-color: var(--fill-color);\n",
              "    }\n",
              "    60% {\n",
              "      border-color: transparent;\n",
              "      border-right-color: var(--fill-color);\n",
              "    }\n",
              "    80% {\n",
              "      border-color: transparent;\n",
              "      border-right-color: var(--fill-color);\n",
              "      border-bottom-color: var(--fill-color);\n",
              "    }\n",
              "    90% {\n",
              "      border-color: transparent;\n",
              "      border-bottom-color: var(--fill-color);\n",
              "    }\n",
              "  }\n",
              "</style>\n",
              "\n",
              "  <script>\n",
              "    async function quickchart(key) {\n",
              "      const quickchartButtonEl =\n",
              "        document.querySelector('#' + key + ' button');\n",
              "      quickchartButtonEl.disabled = true;  // To prevent multiple clicks.\n",
              "      quickchartButtonEl.classList.add('colab-df-spinner');\n",
              "      try {\n",
              "        const charts = await google.colab.kernel.invokeFunction(\n",
              "            'suggestCharts', [key], {});\n",
              "      } catch (error) {\n",
              "        console.error('Error during call to suggestCharts:', error);\n",
              "      }\n",
              "      quickchartButtonEl.classList.remove('colab-df-spinner');\n",
              "      quickchartButtonEl.classList.add('colab-df-quickchart-complete');\n",
              "    }\n",
              "    (() => {\n",
              "      let quickchartButtonEl =\n",
              "        document.querySelector('#df-d027efc2-9635-4289-840a-465e85972aa8 button');\n",
              "      quickchartButtonEl.style.display =\n",
              "        google.colab.kernel.accessAllowed ? 'block' : 'none';\n",
              "    })();\n",
              "  </script>\n",
              "</div>\n",
              "\n",
              "    </div>\n",
              "  </div>\n"
            ],
            "application/vnd.google.colaboratory.intrinsic+json": {
              "type": "dataframe",
              "variable_name": "df"
            }
          },
          "metadata": {},
          "execution_count": 7
        }
      ],
      "source": [
        "df.head()"
      ]
    },
    {
      "cell_type": "code",
      "execution_count": null,
      "metadata": {
        "id": "FH83U4A49ErC",
        "colab": {
          "base_uri": "https://localhost:8080/"
        },
        "outputId": "a1f536ff-9256-47fe-db24-d18d09392f69"
      },
      "outputs": [
        {
          "output_type": "stream",
          "name": "stdout",
          "text": [
            "<class 'pandas.core.frame.DataFrame'>\n",
            "RangeIndex: 158675 entries, 0 to 158674\n",
            "Data columns (total 20 columns):\n",
            " #   Column                 Non-Null Count   Dtype  \n",
            "---  ------                 --------------   -----  \n",
            " 0   VendorID               158675 non-null  int64  \n",
            " 1   tpep_pickup_datetime   158675 non-null  object \n",
            " 2   tpep_dropoff_datetime  158675 non-null  object \n",
            " 3   passenger_count        152412 non-null  float64\n",
            " 4   trip_distance          158675 non-null  float64\n",
            " 5   RatecodeID             152412 non-null  float64\n",
            " 6   store_and_fwd_flag     152412 non-null  object \n",
            " 7   PULocationID           158675 non-null  int64  \n",
            " 8   DOLocationID           158675 non-null  int64  \n",
            " 9   payment_type           158675 non-null  int64  \n",
            " 10  fare_amount            158675 non-null  float64\n",
            " 11  extra                  158675 non-null  float64\n",
            " 12  mta_tax                158675 non-null  float64\n",
            " 13  tip_amount             158675 non-null  float64\n",
            " 14  tolls_amount           158675 non-null  float64\n",
            " 15  improvement_surcharge  158675 non-null  float64\n",
            " 16  total_amount           158675 non-null  float64\n",
            " 17  congestion_surcharge   152412 non-null  float64\n",
            " 18  Airport_fee            145492 non-null  float64\n",
            " 19  airport_fee            6920 non-null    float64\n",
            "dtypes: float64(13), int64(4), object(3)\n",
            "memory usage: 24.2+ MB\n"
          ]
        }
      ],
      "source": [
        "df.info()"
      ]
    },
    {
      "cell_type": "markdown",
      "metadata": {
        "id": "HZvPSwJx0S3K"
      },
      "source": [
        "#### **2.1** Fixing Columns\n",
        "<font color = red>[10 marks]</font> <br>\n",
        "\n",
        "Fix/drop any columns as you seem necessary in the below sections"
      ]
    },
    {
      "cell_type": "markdown",
      "metadata": {
        "id": "358takCd2FiM"
      },
      "source": [
        "**2.1.1** <font color = red>[2 marks]</font> <br>\n",
        "\n",
        "Fix the index and drop unnecessary columns"
      ]
    },
    {
      "cell_type": "code",
      "execution_count": null,
      "metadata": {
        "id": "KHHFyZxa2PEM",
        "colab": {
          "base_uri": "https://localhost:8080/",
          "height": 339
        },
        "outputId": "5202725a-3bba-4810-b5b6-e70d02f1468c"
      },
      "outputs": [
        {
          "output_type": "error",
          "ename": "KeyError",
          "evalue": "\"['store_and_fwd_flag'] not found in axis\"",
          "traceback": [
            "\u001b[0;31m---------------------------------------------------------------------------\u001b[0m",
            "\u001b[0;31mKeyError\u001b[0m                                  Traceback (most recent call last)",
            "\u001b[0;32m<ipython-input-13-406d86af7bf6>\u001b[0m in \u001b[0;36m<cell line: 0>\u001b[0;34m()\u001b[0m\n\u001b[1;32m      2\u001b[0m \u001b[0mdf\u001b[0m \u001b[0;34m=\u001b[0m \u001b[0mdf\u001b[0m\u001b[0;34m.\u001b[0m\u001b[0mreset_index\u001b[0m\u001b[0;34m(\u001b[0m\u001b[0mdrop\u001b[0m\u001b[0;34m=\u001b[0m\u001b[0;32mTrue\u001b[0m\u001b[0;34m)\u001b[0m\u001b[0;34m\u001b[0m\u001b[0;34m\u001b[0m\u001b[0m\n\u001b[1;32m      3\u001b[0m \u001b[0mcolumns_to_drop\u001b[0m \u001b[0;34m=\u001b[0m \u001b[0;34m[\u001b[0m\u001b[0;34m'store_and_fwd_flag'\u001b[0m\u001b[0;34m]\u001b[0m\u001b[0;34m\u001b[0m\u001b[0;34m\u001b[0m\u001b[0m\n\u001b[0;32m----> 4\u001b[0;31m \u001b[0mdf\u001b[0m \u001b[0;34m=\u001b[0m \u001b[0mdf\u001b[0m\u001b[0;34m.\u001b[0m\u001b[0mdrop\u001b[0m\u001b[0;34m(\u001b[0m\u001b[0mcolumns\u001b[0m\u001b[0;34m=\u001b[0m\u001b[0mcolumns_to_drop\u001b[0m\u001b[0;34m)\u001b[0m\u001b[0;34m\u001b[0m\u001b[0;34m\u001b[0m\u001b[0m\n\u001b[0m",
            "\u001b[0;32m/usr/local/lib/python3.11/dist-packages/pandas/core/frame.py\u001b[0m in \u001b[0;36mdrop\u001b[0;34m(self, labels, axis, index, columns, level, inplace, errors)\u001b[0m\n\u001b[1;32m   5579\u001b[0m                 \u001b[0mweight\u001b[0m  \u001b[0;36m1.0\u001b[0m     \u001b[0;36m0.8\u001b[0m\u001b[0;34m\u001b[0m\u001b[0;34m\u001b[0m\u001b[0m\n\u001b[1;32m   5580\u001b[0m         \"\"\"\n\u001b[0;32m-> 5581\u001b[0;31m         return super().drop(\n\u001b[0m\u001b[1;32m   5582\u001b[0m             \u001b[0mlabels\u001b[0m\u001b[0;34m=\u001b[0m\u001b[0mlabels\u001b[0m\u001b[0;34m,\u001b[0m\u001b[0;34m\u001b[0m\u001b[0;34m\u001b[0m\u001b[0m\n\u001b[1;32m   5583\u001b[0m             \u001b[0maxis\u001b[0m\u001b[0;34m=\u001b[0m\u001b[0maxis\u001b[0m\u001b[0;34m,\u001b[0m\u001b[0;34m\u001b[0m\u001b[0;34m\u001b[0m\u001b[0m\n",
            "\u001b[0;32m/usr/local/lib/python3.11/dist-packages/pandas/core/generic.py\u001b[0m in \u001b[0;36mdrop\u001b[0;34m(self, labels, axis, index, columns, level, inplace, errors)\u001b[0m\n\u001b[1;32m   4786\u001b[0m         \u001b[0;32mfor\u001b[0m \u001b[0maxis\u001b[0m\u001b[0;34m,\u001b[0m \u001b[0mlabels\u001b[0m \u001b[0;32min\u001b[0m \u001b[0maxes\u001b[0m\u001b[0;34m.\u001b[0m\u001b[0mitems\u001b[0m\u001b[0;34m(\u001b[0m\u001b[0;34m)\u001b[0m\u001b[0;34m:\u001b[0m\u001b[0;34m\u001b[0m\u001b[0;34m\u001b[0m\u001b[0m\n\u001b[1;32m   4787\u001b[0m             \u001b[0;32mif\u001b[0m \u001b[0mlabels\u001b[0m \u001b[0;32mis\u001b[0m \u001b[0;32mnot\u001b[0m \u001b[0;32mNone\u001b[0m\u001b[0;34m:\u001b[0m\u001b[0;34m\u001b[0m\u001b[0;34m\u001b[0m\u001b[0m\n\u001b[0;32m-> 4788\u001b[0;31m                 \u001b[0mobj\u001b[0m \u001b[0;34m=\u001b[0m \u001b[0mobj\u001b[0m\u001b[0;34m.\u001b[0m\u001b[0m_drop_axis\u001b[0m\u001b[0;34m(\u001b[0m\u001b[0mlabels\u001b[0m\u001b[0;34m,\u001b[0m \u001b[0maxis\u001b[0m\u001b[0;34m,\u001b[0m \u001b[0mlevel\u001b[0m\u001b[0;34m=\u001b[0m\u001b[0mlevel\u001b[0m\u001b[0;34m,\u001b[0m \u001b[0merrors\u001b[0m\u001b[0;34m=\u001b[0m\u001b[0merrors\u001b[0m\u001b[0;34m)\u001b[0m\u001b[0;34m\u001b[0m\u001b[0;34m\u001b[0m\u001b[0m\n\u001b[0m\u001b[1;32m   4789\u001b[0m \u001b[0;34m\u001b[0m\u001b[0m\n\u001b[1;32m   4790\u001b[0m         \u001b[0;32mif\u001b[0m \u001b[0minplace\u001b[0m\u001b[0;34m:\u001b[0m\u001b[0;34m\u001b[0m\u001b[0;34m\u001b[0m\u001b[0m\n",
            "\u001b[0;32m/usr/local/lib/python3.11/dist-packages/pandas/core/generic.py\u001b[0m in \u001b[0;36m_drop_axis\u001b[0;34m(self, labels, axis, level, errors, only_slice)\u001b[0m\n\u001b[1;32m   4828\u001b[0m                 \u001b[0mnew_axis\u001b[0m \u001b[0;34m=\u001b[0m \u001b[0maxis\u001b[0m\u001b[0;34m.\u001b[0m\u001b[0mdrop\u001b[0m\u001b[0;34m(\u001b[0m\u001b[0mlabels\u001b[0m\u001b[0;34m,\u001b[0m \u001b[0mlevel\u001b[0m\u001b[0;34m=\u001b[0m\u001b[0mlevel\u001b[0m\u001b[0;34m,\u001b[0m \u001b[0merrors\u001b[0m\u001b[0;34m=\u001b[0m\u001b[0merrors\u001b[0m\u001b[0;34m)\u001b[0m\u001b[0;34m\u001b[0m\u001b[0;34m\u001b[0m\u001b[0m\n\u001b[1;32m   4829\u001b[0m             \u001b[0;32melse\u001b[0m\u001b[0;34m:\u001b[0m\u001b[0;34m\u001b[0m\u001b[0;34m\u001b[0m\u001b[0m\n\u001b[0;32m-> 4830\u001b[0;31m                 \u001b[0mnew_axis\u001b[0m \u001b[0;34m=\u001b[0m \u001b[0maxis\u001b[0m\u001b[0;34m.\u001b[0m\u001b[0mdrop\u001b[0m\u001b[0;34m(\u001b[0m\u001b[0mlabels\u001b[0m\u001b[0;34m,\u001b[0m \u001b[0merrors\u001b[0m\u001b[0;34m=\u001b[0m\u001b[0merrors\u001b[0m\u001b[0;34m)\u001b[0m\u001b[0;34m\u001b[0m\u001b[0;34m\u001b[0m\u001b[0m\n\u001b[0m\u001b[1;32m   4831\u001b[0m             \u001b[0mindexer\u001b[0m \u001b[0;34m=\u001b[0m \u001b[0maxis\u001b[0m\u001b[0;34m.\u001b[0m\u001b[0mget_indexer\u001b[0m\u001b[0;34m(\u001b[0m\u001b[0mnew_axis\u001b[0m\u001b[0;34m)\u001b[0m\u001b[0;34m\u001b[0m\u001b[0;34m\u001b[0m\u001b[0m\n\u001b[1;32m   4832\u001b[0m \u001b[0;34m\u001b[0m\u001b[0m\n",
            "\u001b[0;32m/usr/local/lib/python3.11/dist-packages/pandas/core/indexes/base.py\u001b[0m in \u001b[0;36mdrop\u001b[0;34m(self, labels, errors)\u001b[0m\n\u001b[1;32m   7068\u001b[0m         \u001b[0;32mif\u001b[0m \u001b[0mmask\u001b[0m\u001b[0;34m.\u001b[0m\u001b[0many\u001b[0m\u001b[0;34m(\u001b[0m\u001b[0;34m)\u001b[0m\u001b[0;34m:\u001b[0m\u001b[0;34m\u001b[0m\u001b[0;34m\u001b[0m\u001b[0m\n\u001b[1;32m   7069\u001b[0m             \u001b[0;32mif\u001b[0m \u001b[0merrors\u001b[0m \u001b[0;34m!=\u001b[0m \u001b[0;34m\"ignore\"\u001b[0m\u001b[0;34m:\u001b[0m\u001b[0;34m\u001b[0m\u001b[0;34m\u001b[0m\u001b[0m\n\u001b[0;32m-> 7070\u001b[0;31m                 \u001b[0;32mraise\u001b[0m \u001b[0mKeyError\u001b[0m\u001b[0;34m(\u001b[0m\u001b[0;34mf\"{labels[mask].tolist()} not found in axis\"\u001b[0m\u001b[0;34m)\u001b[0m\u001b[0;34m\u001b[0m\u001b[0;34m\u001b[0m\u001b[0m\n\u001b[0m\u001b[1;32m   7071\u001b[0m             \u001b[0mindexer\u001b[0m \u001b[0;34m=\u001b[0m \u001b[0mindexer\u001b[0m\u001b[0;34m[\u001b[0m\u001b[0;34m~\u001b[0m\u001b[0mmask\u001b[0m\u001b[0;34m]\u001b[0m\u001b[0;34m\u001b[0m\u001b[0;34m\u001b[0m\u001b[0m\n\u001b[1;32m   7072\u001b[0m         \u001b[0;32mreturn\u001b[0m \u001b[0mself\u001b[0m\u001b[0;34m.\u001b[0m\u001b[0mdelete\u001b[0m\u001b[0;34m(\u001b[0m\u001b[0mindexer\u001b[0m\u001b[0;34m)\u001b[0m\u001b[0;34m\u001b[0m\u001b[0;34m\u001b[0m\u001b[0m\n",
            "\u001b[0;31mKeyError\u001b[0m: \"['store_and_fwd_flag'] not found in axis\""
          ]
        }
      ],
      "source": [
        "# Fix the index and drop any columns that are not needed\n",
        "df = df.reset_index(drop=True)\n",
        "columns_to_drop = ['store_and_fwd_flag']\n",
        "df = df.drop(columns=columns_to_drop)"
      ]
    },
    {
      "cell_type": "markdown",
      "metadata": {
        "id": "TIFmxvIT2wsn"
      },
      "source": [
        "**2.1.2** <font color = red>[3 marks]</font> <br>\n",
        "There are two airport fee columns. This is possibly an error in naming columns. Let's see whether these can be combined into a single column."
      ]
    },
    {
      "cell_type": "code",
      "execution_count": null,
      "metadata": {
        "id": "rmtgnb1x6TrV"
      },
      "outputs": [],
      "source": [
        "# Combine the two airport fee columns\n",
        "df['total_airport_fee'] = df['airport_fee'] + df['Airport_fee']\n",
        "df = df.drop(columns=['airport_fee', 'Airport_fee'])"
      ]
    },
    {
      "cell_type": "markdown",
      "metadata": {
        "id": "1g4AHG7mOYgP"
      },
      "source": [
        "**2.1.3** <font color = red>[5 marks]</font> <br>\n",
        "Fix columns with negative (monetary) values"
      ]
    },
    {
      "cell_type": "code",
      "execution_count": null,
      "metadata": {
        "id": "nBsMT2MII1Hv",
        "colab": {
          "base_uri": "https://localhost:8080/",
          "height": 73
        },
        "outputId": "62482bdb-156d-4fd3-d22b-340a0089cc7c"
      },
      "outputs": [
        {
          "output_type": "execute_result",
          "data": {
            "text/plain": [
              "Empty DataFrame\n",
              "Columns: [VendorID, tpep_pickup_datetime, tpep_dropoff_datetime, passenger_count, trip_distance, RatecodeID, store_and_fwd_flag, PULocationID, DOLocationID, payment_type, fare_amount, extra, mta_tax, tip_amount, tolls_amount, improvement_surcharge, total_amount, congestion_surcharge, total_airport_fee]\n",
              "Index: []"
            ],
            "text/html": [
              "\n",
              "  <div id=\"df-e0309338-098d-4b22-a45c-7226f7a4f38d\" class=\"colab-df-container\">\n",
              "    <div>\n",
              "<style scoped>\n",
              "    .dataframe tbody tr th:only-of-type {\n",
              "        vertical-align: middle;\n",
              "    }\n",
              "\n",
              "    .dataframe tbody tr th {\n",
              "        vertical-align: top;\n",
              "    }\n",
              "\n",
              "    .dataframe thead th {\n",
              "        text-align: right;\n",
              "    }\n",
              "</style>\n",
              "<table border=\"1\" class=\"dataframe\">\n",
              "  <thead>\n",
              "    <tr style=\"text-align: right;\">\n",
              "      <th></th>\n",
              "      <th>VendorID</th>\n",
              "      <th>tpep_pickup_datetime</th>\n",
              "      <th>tpep_dropoff_datetime</th>\n",
              "      <th>passenger_count</th>\n",
              "      <th>trip_distance</th>\n",
              "      <th>RatecodeID</th>\n",
              "      <th>store_and_fwd_flag</th>\n",
              "      <th>PULocationID</th>\n",
              "      <th>DOLocationID</th>\n",
              "      <th>payment_type</th>\n",
              "      <th>fare_amount</th>\n",
              "      <th>extra</th>\n",
              "      <th>mta_tax</th>\n",
              "      <th>tip_amount</th>\n",
              "      <th>tolls_amount</th>\n",
              "      <th>improvement_surcharge</th>\n",
              "      <th>total_amount</th>\n",
              "      <th>congestion_surcharge</th>\n",
              "      <th>total_airport_fee</th>\n",
              "    </tr>\n",
              "  </thead>\n",
              "  <tbody>\n",
              "  </tbody>\n",
              "</table>\n",
              "</div>\n",
              "    <div class=\"colab-df-buttons\">\n",
              "\n",
              "  <div class=\"colab-df-container\">\n",
              "    <button class=\"colab-df-convert\" onclick=\"convertToInteractive('df-e0309338-098d-4b22-a45c-7226f7a4f38d')\"\n",
              "            title=\"Convert this dataframe to an interactive table.\"\n",
              "            style=\"display:none;\">\n",
              "\n",
              "  <svg xmlns=\"http://www.w3.org/2000/svg\" height=\"24px\" viewBox=\"0 -960 960 960\">\n",
              "    <path d=\"M120-120v-720h720v720H120Zm60-500h600v-160H180v160Zm220 220h160v-160H400v160Zm0 220h160v-160H400v160ZM180-400h160v-160H180v160Zm440 0h160v-160H620v160ZM180-180h160v-160H180v160Zm440 0h160v-160H620v160Z\"/>\n",
              "  </svg>\n",
              "    </button>\n",
              "\n",
              "  <style>\n",
              "    .colab-df-container {\n",
              "      display:flex;\n",
              "      gap: 12px;\n",
              "    }\n",
              "\n",
              "    .colab-df-convert {\n",
              "      background-color: #E8F0FE;\n",
              "      border: none;\n",
              "      border-radius: 50%;\n",
              "      cursor: pointer;\n",
              "      display: none;\n",
              "      fill: #1967D2;\n",
              "      height: 32px;\n",
              "      padding: 0 0 0 0;\n",
              "      width: 32px;\n",
              "    }\n",
              "\n",
              "    .colab-df-convert:hover {\n",
              "      background-color: #E2EBFA;\n",
              "      box-shadow: 0px 1px 2px rgba(60, 64, 67, 0.3), 0px 1px 3px 1px rgba(60, 64, 67, 0.15);\n",
              "      fill: #174EA6;\n",
              "    }\n",
              "\n",
              "    .colab-df-buttons div {\n",
              "      margin-bottom: 4px;\n",
              "    }\n",
              "\n",
              "    [theme=dark] .colab-df-convert {\n",
              "      background-color: #3B4455;\n",
              "      fill: #D2E3FC;\n",
              "    }\n",
              "\n",
              "    [theme=dark] .colab-df-convert:hover {\n",
              "      background-color: #434B5C;\n",
              "      box-shadow: 0px 1px 3px 1px rgba(0, 0, 0, 0.15);\n",
              "      filter: drop-shadow(0px 1px 2px rgba(0, 0, 0, 0.3));\n",
              "      fill: #FFFFFF;\n",
              "    }\n",
              "  </style>\n",
              "\n",
              "    <script>\n",
              "      const buttonEl =\n",
              "        document.querySelector('#df-e0309338-098d-4b22-a45c-7226f7a4f38d button.colab-df-convert');\n",
              "      buttonEl.style.display =\n",
              "        google.colab.kernel.accessAllowed ? 'block' : 'none';\n",
              "\n",
              "      async function convertToInteractive(key) {\n",
              "        const element = document.querySelector('#df-e0309338-098d-4b22-a45c-7226f7a4f38d');\n",
              "        const dataTable =\n",
              "          await google.colab.kernel.invokeFunction('convertToInteractive',\n",
              "                                                    [key], {});\n",
              "        if (!dataTable) return;\n",
              "\n",
              "        const docLinkHtml = 'Like what you see? Visit the ' +\n",
              "          '<a target=\"_blank\" href=https://colab.research.google.com/notebooks/data_table.ipynb>data table notebook</a>'\n",
              "          + ' to learn more about interactive tables.';\n",
              "        element.innerHTML = '';\n",
              "        dataTable['output_type'] = 'display_data';\n",
              "        await google.colab.output.renderOutput(dataTable, element);\n",
              "        const docLink = document.createElement('div');\n",
              "        docLink.innerHTML = docLinkHtml;\n",
              "        element.appendChild(docLink);\n",
              "      }\n",
              "    </script>\n",
              "  </div>\n",
              "\n",
              "\n",
              "    </div>\n",
              "  </div>\n"
            ],
            "application/vnd.google.colaboratory.intrinsic+json": {
              "type": "dataframe",
              "repr_error": "Out of range float values are not JSON compliant: nan"
            }
          },
          "metadata": {},
          "execution_count": 10
        }
      ],
      "source": [
        "# check where values of fare amount are negative\n",
        "df[df['fare_amount'] < 0]"
      ]
    },
    {
      "cell_type": "markdown",
      "metadata": {
        "id": "JNKpDtTh8awi"
      },
      "source": [
        "Did you notice something different in the `RatecodeID` column for above records?"
      ]
    },
    {
      "cell_type": "code",
      "execution_count": null,
      "metadata": {
        "id": "9eVrrj7c3kjq",
        "colab": {
          "base_uri": "https://localhost:8080/",
          "height": 115
        },
        "outputId": "b7a58f24-6956-48bf-b633-57b174069626"
      },
      "outputs": [
        {
          "output_type": "execute_result",
          "data": {
            "text/plain": [
              "Series([], Name: count, dtype: int64)"
            ],
            "text/html": [
              "<div>\n",
              "<style scoped>\n",
              "    .dataframe tbody tr th:only-of-type {\n",
              "        vertical-align: middle;\n",
              "    }\n",
              "\n",
              "    .dataframe tbody tr th {\n",
              "        vertical-align: top;\n",
              "    }\n",
              "\n",
              "    .dataframe thead th {\n",
              "        text-align: right;\n",
              "    }\n",
              "</style>\n",
              "<table border=\"1\" class=\"dataframe\">\n",
              "  <thead>\n",
              "    <tr style=\"text-align: right;\">\n",
              "      <th></th>\n",
              "      <th>count</th>\n",
              "    </tr>\n",
              "    <tr>\n",
              "      <th>RatecodeID</th>\n",
              "      <th></th>\n",
              "    </tr>\n",
              "  </thead>\n",
              "  <tbody>\n",
              "  </tbody>\n",
              "</table>\n",
              "</div><br><label><b>dtype:</b> int64</label>"
            ]
          },
          "metadata": {},
          "execution_count": 11
        }
      ],
      "source": [
        "# Analyse RatecodeID for the negative fare amounts\n",
        "df.RatecodeID.where(df['fare_amount'] < 0).value_counts()\n",
        "\n"
      ]
    },
    {
      "cell_type": "code",
      "execution_count": null,
      "metadata": {
        "id": "Ruyh2vaCRNxr",
        "colab": {
          "base_uri": "https://localhost:8080/"
        },
        "outputId": "3da365d2-2c3e-4051-8586-efa092771b8a"
      },
      "outputs": [
        {
          "output_type": "stream",
          "name": "stdout",
          "text": [
            "Index(['mta_tax', 'improvement_surcharge', 'total_amount',\n",
            "       'congestion_surcharge'],\n",
            "      dtype='object')\n"
          ]
        }
      ],
      "source": [
        "# Find which columns have negative values\n",
        "numerical_cols = df.select_dtypes(include=np.number).columns\n",
        "negative_mask = df[numerical_cols] < 0\n",
        "\n",
        "cols_with_negatives = numerical_cols[negative_mask.any()]\n",
        "print(cols_with_negatives)"
      ]
    },
    {
      "cell_type": "code",
      "execution_count": null,
      "metadata": {
        "id": "mPehZ6PJg3_J"
      },
      "outputs": [],
      "source": [
        "# fix these negative values\n",
        "\n",
        "for col in cols_with_negatives:\n",
        "    df[col] = df[col].clip(lower=0)"
      ]
    },
    {
      "cell_type": "markdown",
      "metadata": {
        "id": "x2hakCCy6wXI"
      },
      "source": [
        "### **2.2** Handling Missing Values\n",
        "<font color = red>[10 marks]</font> <br>"
      ]
    },
    {
      "cell_type": "markdown",
      "metadata": {
        "id": "-K-QNPDVVhzR"
      },
      "source": [
        "**2.2.1**  <font color = red>[2 marks]</font> <br>\n",
        "Find the proportion of missing values in each column\n",
        "\n",
        "\n"
      ]
    },
    {
      "cell_type": "code",
      "execution_count": null,
      "metadata": {
        "id": "tfTa9cct6Gec",
        "colab": {
          "base_uri": "https://localhost:8080/"
        },
        "outputId": "b68fca9d-0302-4e6b-f5a7-3fd187a85f94"
      },
      "outputs": [
        {
          "output_type": "stream",
          "name": "stdout",
          "text": [
            "VendorID                 0.000000\n",
            "tpep_pickup_datetime     0.000000\n",
            "tpep_dropoff_datetime    0.000000\n",
            "passenger_count          0.039471\n",
            "trip_distance            0.000000\n",
            "RatecodeID               0.039471\n",
            "store_and_fwd_flag       0.039471\n",
            "PULocationID             0.000000\n",
            "DOLocationID             0.000000\n",
            "payment_type             0.000000\n",
            "fare_amount              0.000000\n",
            "extra                    0.000000\n",
            "mta_tax                  0.000000\n",
            "tip_amount               0.000000\n",
            "tolls_amount             0.000000\n",
            "improvement_surcharge    0.000000\n",
            "total_amount             0.000000\n",
            "congestion_surcharge     0.039471\n",
            "total_airport_fee        1.000000\n",
            "dtype: float64\n"
          ]
        }
      ],
      "source": [
        "# Find the proportion of missing values in each column\n",
        "missing_proportions = df.isnull().mean()\n",
        "print(missing_proportions)"
      ]
    },
    {
      "cell_type": "markdown",
      "metadata": {
        "id": "-UdUl6AL_-E_"
      },
      "source": [
        "**2.2.2**  <font color = red>[3 marks]</font> <br>\n",
        "Handling missing values in `passenger_count`"
      ]
    },
    {
      "cell_type": "code",
      "execution_count": null,
      "metadata": {
        "id": "JmNmhr4q8Xys"
      },
      "outputs": [],
      "source": [
        "# Display the rows with null values\n",
        "rows_with_nulls = df[df.isnull().any(axis=1)]\n",
        "\n",
        "# Impute NaN values in 'passenger_count'\n",
        "mean_passenger_count = df['passenger_count'].mean()\n",
        "df['passenger_count'] = df['passenger_count'].fillna(mean_passenger_count)"
      ]
    },
    {
      "cell_type": "markdown",
      "metadata": {
        "id": "hIPCyR6UCw0c"
      },
      "source": [
        "Did you find zeroes in passenger_count? Handle these."
      ]
    },
    {
      "cell_type": "markdown",
      "metadata": {
        "id": "IUr4fwkjBUTQ"
      },
      "source": [
        "**2.2.3**  <font color = red>[2 marks]</font> <br>\n",
        "Handle missing values in `RatecodeID`"
      ]
    },
    {
      "cell_type": "code",
      "execution_count": null,
      "metadata": {
        "id": "qEgFxytzBkrB"
      },
      "outputs": [],
      "source": [
        "# Fix missing values in 'RatecodeID'\n",
        "mode_ratecode = df['RatecodeID'].mode()[0]\n",
        "df['RatecodeID'] = df['RatecodeID'].fillna(mode_ratecode)"
      ]
    },
    {
      "cell_type": "markdown",
      "metadata": {
        "id": "0TjHXzuODCUW"
      },
      "source": [
        "**2.2.4**  <font color = red>[3 marks]</font> <br>\n",
        "Impute NaN in `congestion_surcharge`"
      ]
    },
    {
      "cell_type": "code",
      "execution_count": null,
      "metadata": {
        "id": "HqnabUGC3xOA"
      },
      "outputs": [],
      "source": [
        "# handle null values in congestion_surcharge\n",
        "df['congestion_surcharge'] = df['congestion_surcharge'].fillna(0)"
      ]
    },
    {
      "cell_type": "markdown",
      "metadata": {
        "id": "4FZEdgAgUbPl"
      },
      "source": [
        "Are there missing values in other columns? Did you find NaN values in some other set of columns? Handle those missing values below."
      ]
    },
    {
      "cell_type": "code",
      "execution_count": null,
      "metadata": {
        "id": "iDLpyqCRXa3K"
      },
      "outputs": [],
      "source": [
        "# Handle any remaining missing values\n",
        "missing_values = df.isnull().sum()"
      ]
    },
    {
      "cell_type": "code",
      "source": [
        "numerical_cols = df.select_dtypes(include=np.number).columns\n",
        "categorical_cols = df.select_dtypes(include=['object', 'category']).columns\n",
        "\n",
        "#Numeric values check\n",
        "for col in numerical_cols:\n",
        "    median_value = df[col].median()\n",
        "    df[col] = df[col].fillna(median_value)\n",
        "\n",
        "#Nonumeric value check\n",
        "for col in categorical_cols:\n",
        "    mode_value = df[col].mode()[0]\n",
        "    df[col] = df[col].fillna(mode_value)"
      ],
      "metadata": {
        "id": "ZBItqvmcMrxG"
      },
      "execution_count": null,
      "outputs": []
    },
    {
      "cell_type": "markdown",
      "metadata": {
        "id": "2jyQyYIpCztl"
      },
      "source": [
        "### **2.3** Handling Outliers\n",
        "<font color = red>[10 marks]</font> <br>"
      ]
    },
    {
      "cell_type": "markdown",
      "metadata": {
        "id": "ZoVwZzuEMTHB"
      },
      "source": [
        "Before we start fixing outliers, let's perform outlier analysis."
      ]
    },
    {
      "cell_type": "code",
      "execution_count": null,
      "metadata": {
        "id": "zHK5K6uV8XpU"
      },
      "outputs": [],
      "source": [
        "# Describe the data and check if there are any potential outliers present\n",
        "numerical_cols = df.select_dtypes(include=np.number).columns\n",
        "Q1 = df[numerical_cols].quantile(0.25)\n",
        "Q3 = df[numerical_cols].quantile(0.75)\n",
        "IQR = Q3 - Q1\n",
        "upper_bound = Q3 + (1.5 * IQR)\n",
        "lower_bound = Q1 - (1.5 * IQR)\n",
        "\n",
        "# Check for potential out of place values in various columns\n",
        "\n",
        "outliers = df[(df[numerical_cols] > upper_bound) | (df[numerical_cols] < lower_bound)].any(axis=1)\n",
        "\n"
      ]
    },
    {
      "cell_type": "markdown",
      "metadata": {
        "id": "4XDuLkufyJ2g"
      },
      "source": [
        "**2.3.1**  <font color = red>[10 marks]</font> <br>\n",
        "Based on the above analysis, it seems that some of the outliers are present due to errors in registering the trips. Fix the outliers.\n",
        "\n",
        "Some points you can look for:\n",
        "- Entries where `trip_distance` is nearly 0 and `fare_amount` is more than 300\n",
        "- Entries where `trip_distance` and `fare_amount` are 0 but the pickup and dropoff zones are different (both distance and fare should not be zero for different zones)\n",
        "- Entries where `trip_distance` is more than 250  miles.\n",
        "- Entries where `payment_type` is 0 (there is no payment_type 0 defined in the data dictionary)\n",
        "\n",
        "These are just some suggestions. You can handle outliers in any way you wish, using the insights from above outlier analysis."
      ]
    },
    {
      "cell_type": "markdown",
      "metadata": {
        "id": "u-YNHI8tea9c"
      },
      "source": [
        "How will you fix each of these values? Which ones will you drop and which ones will you replace?"
      ]
    },
    {
      "cell_type": "markdown",
      "metadata": {
        "id": "Ap4IfwXO4yZe"
      },
      "source": [
        "First, let us remove 7+ passenger counts as there are very less instances."
      ]
    },
    {
      "cell_type": "code",
      "source": [
        "df.head()\n",
        "#df = df[~((df['trip_distance'] < 0.1) & (df['fare_amount'] > 300))]\n",
        "\n",
        "#df = df[~((df['trip_distance'] == 0) & (df['fare_amount'] == 0) & (df['PULocationID'] != df['DOLocationID']))]\n",
        "\n",
        "#df = df[~(df['trip_distance'] > 250)]\n",
        "\n",
        "#df = df[~(df['payment_type'] == 0)]"
      ],
      "metadata": {
        "colab": {
          "base_uri": "https://localhost:8080/",
          "height": 226
        },
        "id": "tjQ2PYxFOsrB",
        "outputId": "936e53f4-5754-4776-af16-e1abc9d98a63"
      },
      "execution_count": null,
      "outputs": [
        {
          "output_type": "execute_result",
          "data": {
            "text/plain": [
              "   VendorID tpep_pickup_datetime tpep_dropoff_datetime  passenger_count  \\\n",
              "0         2  2023-09-01 16:44:19   2023-09-01 17:53:41              2.0   \n",
              "1         1  2023-09-01 16:53:33   2023-09-01 17:03:59              1.0   \n",
              "2         1  2023-09-01 16:57:12   2023-09-01 17:11:48              1.0   \n",
              "3         2  2023-09-01 16:16:43   2023-09-01 17:23:39              1.0   \n",
              "4         2  2023-09-01 16:55:20   2023-09-01 17:23:18              6.0   \n",
              "\n",
              "   trip_distance  RatecodeID store_and_fwd_flag  PULocationID  DOLocationID  \\\n",
              "0          17.05         2.0                  N           162           132   \n",
              "1           1.10         2.0                  N           148           114   \n",
              "2           1.50         1.0                  N           107           211   \n",
              "3          18.28         1.0                  N           132            65   \n",
              "4          11.01         1.0                  N           138           230   \n",
              "\n",
              "   payment_type  fare_amount  extra  mta_tax  tip_amount  tolls_amount  \\\n",
              "0             2         70.0    5.0      0.5         0.0          6.94   \n",
              "1             1         70.0    7.5      0.5         8.0          0.00   \n",
              "2             1         14.2    5.0      0.5         4.1          0.00   \n",
              "3             1         78.6    2.5      0.5        10.0          0.00   \n",
              "4             1         44.3    7.5      0.5        12.9          6.94   \n",
              "\n",
              "   improvement_surcharge  total_amount  congestion_surcharge  \\\n",
              "0                    1.0         85.94                   2.5   \n",
              "1                    1.0         87.00                   2.5   \n",
              "2                    1.0         24.80                   2.5   \n",
              "3                    1.0         94.35                   0.0   \n",
              "4                    1.0         77.39                   2.5   \n",
              "\n",
              "   total_airport_fee  \n",
              "0                NaN  \n",
              "1                NaN  \n",
              "2                NaN  \n",
              "3                NaN  \n",
              "4                NaN  "
            ],
            "text/html": [
              "\n",
              "  <div id=\"df-64afc6b1-ccc8-4525-b27d-ab77d3fbf8d0\" class=\"colab-df-container\">\n",
              "    <div>\n",
              "<style scoped>\n",
              "    .dataframe tbody tr th:only-of-type {\n",
              "        vertical-align: middle;\n",
              "    }\n",
              "\n",
              "    .dataframe tbody tr th {\n",
              "        vertical-align: top;\n",
              "    }\n",
              "\n",
              "    .dataframe thead th {\n",
              "        text-align: right;\n",
              "    }\n",
              "</style>\n",
              "<table border=\"1\" class=\"dataframe\">\n",
              "  <thead>\n",
              "    <tr style=\"text-align: right;\">\n",
              "      <th></th>\n",
              "      <th>VendorID</th>\n",
              "      <th>tpep_pickup_datetime</th>\n",
              "      <th>tpep_dropoff_datetime</th>\n",
              "      <th>passenger_count</th>\n",
              "      <th>trip_distance</th>\n",
              "      <th>RatecodeID</th>\n",
              "      <th>store_and_fwd_flag</th>\n",
              "      <th>PULocationID</th>\n",
              "      <th>DOLocationID</th>\n",
              "      <th>payment_type</th>\n",
              "      <th>fare_amount</th>\n",
              "      <th>extra</th>\n",
              "      <th>mta_tax</th>\n",
              "      <th>tip_amount</th>\n",
              "      <th>tolls_amount</th>\n",
              "      <th>improvement_surcharge</th>\n",
              "      <th>total_amount</th>\n",
              "      <th>congestion_surcharge</th>\n",
              "      <th>total_airport_fee</th>\n",
              "    </tr>\n",
              "  </thead>\n",
              "  <tbody>\n",
              "    <tr>\n",
              "      <th>0</th>\n",
              "      <td>2</td>\n",
              "      <td>2023-09-01 16:44:19</td>\n",
              "      <td>2023-09-01 17:53:41</td>\n",
              "      <td>2.0</td>\n",
              "      <td>17.05</td>\n",
              "      <td>2.0</td>\n",
              "      <td>N</td>\n",
              "      <td>162</td>\n",
              "      <td>132</td>\n",
              "      <td>2</td>\n",
              "      <td>70.0</td>\n",
              "      <td>5.0</td>\n",
              "      <td>0.5</td>\n",
              "      <td>0.0</td>\n",
              "      <td>6.94</td>\n",
              "      <td>1.0</td>\n",
              "      <td>85.94</td>\n",
              "      <td>2.5</td>\n",
              "      <td>NaN</td>\n",
              "    </tr>\n",
              "    <tr>\n",
              "      <th>1</th>\n",
              "      <td>1</td>\n",
              "      <td>2023-09-01 16:53:33</td>\n",
              "      <td>2023-09-01 17:03:59</td>\n",
              "      <td>1.0</td>\n",
              "      <td>1.10</td>\n",
              "      <td>2.0</td>\n",
              "      <td>N</td>\n",
              "      <td>148</td>\n",
              "      <td>114</td>\n",
              "      <td>1</td>\n",
              "      <td>70.0</td>\n",
              "      <td>7.5</td>\n",
              "      <td>0.5</td>\n",
              "      <td>8.0</td>\n",
              "      <td>0.00</td>\n",
              "      <td>1.0</td>\n",
              "      <td>87.00</td>\n",
              "      <td>2.5</td>\n",
              "      <td>NaN</td>\n",
              "    </tr>\n",
              "    <tr>\n",
              "      <th>2</th>\n",
              "      <td>1</td>\n",
              "      <td>2023-09-01 16:57:12</td>\n",
              "      <td>2023-09-01 17:11:48</td>\n",
              "      <td>1.0</td>\n",
              "      <td>1.50</td>\n",
              "      <td>1.0</td>\n",
              "      <td>N</td>\n",
              "      <td>107</td>\n",
              "      <td>211</td>\n",
              "      <td>1</td>\n",
              "      <td>14.2</td>\n",
              "      <td>5.0</td>\n",
              "      <td>0.5</td>\n",
              "      <td>4.1</td>\n",
              "      <td>0.00</td>\n",
              "      <td>1.0</td>\n",
              "      <td>24.80</td>\n",
              "      <td>2.5</td>\n",
              "      <td>NaN</td>\n",
              "    </tr>\n",
              "    <tr>\n",
              "      <th>3</th>\n",
              "      <td>2</td>\n",
              "      <td>2023-09-01 16:16:43</td>\n",
              "      <td>2023-09-01 17:23:39</td>\n",
              "      <td>1.0</td>\n",
              "      <td>18.28</td>\n",
              "      <td>1.0</td>\n",
              "      <td>N</td>\n",
              "      <td>132</td>\n",
              "      <td>65</td>\n",
              "      <td>1</td>\n",
              "      <td>78.6</td>\n",
              "      <td>2.5</td>\n",
              "      <td>0.5</td>\n",
              "      <td>10.0</td>\n",
              "      <td>0.00</td>\n",
              "      <td>1.0</td>\n",
              "      <td>94.35</td>\n",
              "      <td>0.0</td>\n",
              "      <td>NaN</td>\n",
              "    </tr>\n",
              "    <tr>\n",
              "      <th>4</th>\n",
              "      <td>2</td>\n",
              "      <td>2023-09-01 16:55:20</td>\n",
              "      <td>2023-09-01 17:23:18</td>\n",
              "      <td>6.0</td>\n",
              "      <td>11.01</td>\n",
              "      <td>1.0</td>\n",
              "      <td>N</td>\n",
              "      <td>138</td>\n",
              "      <td>230</td>\n",
              "      <td>1</td>\n",
              "      <td>44.3</td>\n",
              "      <td>7.5</td>\n",
              "      <td>0.5</td>\n",
              "      <td>12.9</td>\n",
              "      <td>6.94</td>\n",
              "      <td>1.0</td>\n",
              "      <td>77.39</td>\n",
              "      <td>2.5</td>\n",
              "      <td>NaN</td>\n",
              "    </tr>\n",
              "  </tbody>\n",
              "</table>\n",
              "</div>\n",
              "    <div class=\"colab-df-buttons\">\n",
              "\n",
              "  <div class=\"colab-df-container\">\n",
              "    <button class=\"colab-df-convert\" onclick=\"convertToInteractive('df-64afc6b1-ccc8-4525-b27d-ab77d3fbf8d0')\"\n",
              "            title=\"Convert this dataframe to an interactive table.\"\n",
              "            style=\"display:none;\">\n",
              "\n",
              "  <svg xmlns=\"http://www.w3.org/2000/svg\" height=\"24px\" viewBox=\"0 -960 960 960\">\n",
              "    <path d=\"M120-120v-720h720v720H120Zm60-500h600v-160H180v160Zm220 220h160v-160H400v160Zm0 220h160v-160H400v160ZM180-400h160v-160H180v160Zm440 0h160v-160H620v160ZM180-180h160v-160H180v160Zm440 0h160v-160H620v160Z\"/>\n",
              "  </svg>\n",
              "    </button>\n",
              "\n",
              "  <style>\n",
              "    .colab-df-container {\n",
              "      display:flex;\n",
              "      gap: 12px;\n",
              "    }\n",
              "\n",
              "    .colab-df-convert {\n",
              "      background-color: #E8F0FE;\n",
              "      border: none;\n",
              "      border-radius: 50%;\n",
              "      cursor: pointer;\n",
              "      display: none;\n",
              "      fill: #1967D2;\n",
              "      height: 32px;\n",
              "      padding: 0 0 0 0;\n",
              "      width: 32px;\n",
              "    }\n",
              "\n",
              "    .colab-df-convert:hover {\n",
              "      background-color: #E2EBFA;\n",
              "      box-shadow: 0px 1px 2px rgba(60, 64, 67, 0.3), 0px 1px 3px 1px rgba(60, 64, 67, 0.15);\n",
              "      fill: #174EA6;\n",
              "    }\n",
              "\n",
              "    .colab-df-buttons div {\n",
              "      margin-bottom: 4px;\n",
              "    }\n",
              "\n",
              "    [theme=dark] .colab-df-convert {\n",
              "      background-color: #3B4455;\n",
              "      fill: #D2E3FC;\n",
              "    }\n",
              "\n",
              "    [theme=dark] .colab-df-convert:hover {\n",
              "      background-color: #434B5C;\n",
              "      box-shadow: 0px 1px 3px 1px rgba(0, 0, 0, 0.15);\n",
              "      filter: drop-shadow(0px 1px 2px rgba(0, 0, 0, 0.3));\n",
              "      fill: #FFFFFF;\n",
              "    }\n",
              "  </style>\n",
              "\n",
              "    <script>\n",
              "      const buttonEl =\n",
              "        document.querySelector('#df-64afc6b1-ccc8-4525-b27d-ab77d3fbf8d0 button.colab-df-convert');\n",
              "      buttonEl.style.display =\n",
              "        google.colab.kernel.accessAllowed ? 'block' : 'none';\n",
              "\n",
              "      async function convertToInteractive(key) {\n",
              "        const element = document.querySelector('#df-64afc6b1-ccc8-4525-b27d-ab77d3fbf8d0');\n",
              "        const dataTable =\n",
              "          await google.colab.kernel.invokeFunction('convertToInteractive',\n",
              "                                                    [key], {});\n",
              "        if (!dataTable) return;\n",
              "\n",
              "        const docLinkHtml = 'Like what you see? Visit the ' +\n",
              "          '<a target=\"_blank\" href=https://colab.research.google.com/notebooks/data_table.ipynb>data table notebook</a>'\n",
              "          + ' to learn more about interactive tables.';\n",
              "        element.innerHTML = '';\n",
              "        dataTable['output_type'] = 'display_data';\n",
              "        await google.colab.output.renderOutput(dataTable, element);\n",
              "        const docLink = document.createElement('div');\n",
              "        docLink.innerHTML = docLinkHtml;\n",
              "        element.appendChild(docLink);\n",
              "      }\n",
              "    </script>\n",
              "  </div>\n",
              "\n",
              "\n",
              "<div id=\"df-7860470f-16b8-46d0-a2c3-98e22eefe8e4\">\n",
              "  <button class=\"colab-df-quickchart\" onclick=\"quickchart('df-7860470f-16b8-46d0-a2c3-98e22eefe8e4')\"\n",
              "            title=\"Suggest charts\"\n",
              "            style=\"display:none;\">\n",
              "\n",
              "<svg xmlns=\"http://www.w3.org/2000/svg\" height=\"24px\"viewBox=\"0 0 24 24\"\n",
              "     width=\"24px\">\n",
              "    <g>\n",
              "        <path d=\"M19 3H5c-1.1 0-2 .9-2 2v14c0 1.1.9 2 2 2h14c1.1 0 2-.9 2-2V5c0-1.1-.9-2-2-2zM9 17H7v-7h2v7zm4 0h-2V7h2v10zm4 0h-2v-4h2v4z\"/>\n",
              "    </g>\n",
              "</svg>\n",
              "  </button>\n",
              "\n",
              "<style>\n",
              "  .colab-df-quickchart {\n",
              "      --bg-color: #E8F0FE;\n",
              "      --fill-color: #1967D2;\n",
              "      --hover-bg-color: #E2EBFA;\n",
              "      --hover-fill-color: #174EA6;\n",
              "      --disabled-fill-color: #AAA;\n",
              "      --disabled-bg-color: #DDD;\n",
              "  }\n",
              "\n",
              "  [theme=dark] .colab-df-quickchart {\n",
              "      --bg-color: #3B4455;\n",
              "      --fill-color: #D2E3FC;\n",
              "      --hover-bg-color: #434B5C;\n",
              "      --hover-fill-color: #FFFFFF;\n",
              "      --disabled-bg-color: #3B4455;\n",
              "      --disabled-fill-color: #666;\n",
              "  }\n",
              "\n",
              "  .colab-df-quickchart {\n",
              "    background-color: var(--bg-color);\n",
              "    border: none;\n",
              "    border-radius: 50%;\n",
              "    cursor: pointer;\n",
              "    display: none;\n",
              "    fill: var(--fill-color);\n",
              "    height: 32px;\n",
              "    padding: 0;\n",
              "    width: 32px;\n",
              "  }\n",
              "\n",
              "  .colab-df-quickchart:hover {\n",
              "    background-color: var(--hover-bg-color);\n",
              "    box-shadow: 0 1px 2px rgba(60, 64, 67, 0.3), 0 1px 3px 1px rgba(60, 64, 67, 0.15);\n",
              "    fill: var(--button-hover-fill-color);\n",
              "  }\n",
              "\n",
              "  .colab-df-quickchart-complete:disabled,\n",
              "  .colab-df-quickchart-complete:disabled:hover {\n",
              "    background-color: var(--disabled-bg-color);\n",
              "    fill: var(--disabled-fill-color);\n",
              "    box-shadow: none;\n",
              "  }\n",
              "\n",
              "  .colab-df-spinner {\n",
              "    border: 2px solid var(--fill-color);\n",
              "    border-color: transparent;\n",
              "    border-bottom-color: var(--fill-color);\n",
              "    animation:\n",
              "      spin 1s steps(1) infinite;\n",
              "  }\n",
              "\n",
              "  @keyframes spin {\n",
              "    0% {\n",
              "      border-color: transparent;\n",
              "      border-bottom-color: var(--fill-color);\n",
              "      border-left-color: var(--fill-color);\n",
              "    }\n",
              "    20% {\n",
              "      border-color: transparent;\n",
              "      border-left-color: var(--fill-color);\n",
              "      border-top-color: var(--fill-color);\n",
              "    }\n",
              "    30% {\n",
              "      border-color: transparent;\n",
              "      border-left-color: var(--fill-color);\n",
              "      border-top-color: var(--fill-color);\n",
              "      border-right-color: var(--fill-color);\n",
              "    }\n",
              "    40% {\n",
              "      border-color: transparent;\n",
              "      border-right-color: var(--fill-color);\n",
              "      border-top-color: var(--fill-color);\n",
              "    }\n",
              "    60% {\n",
              "      border-color: transparent;\n",
              "      border-right-color: var(--fill-color);\n",
              "    }\n",
              "    80% {\n",
              "      border-color: transparent;\n",
              "      border-right-color: var(--fill-color);\n",
              "      border-bottom-color: var(--fill-color);\n",
              "    }\n",
              "    90% {\n",
              "      border-color: transparent;\n",
              "      border-bottom-color: var(--fill-color);\n",
              "    }\n",
              "  }\n",
              "</style>\n",
              "\n",
              "  <script>\n",
              "    async function quickchart(key) {\n",
              "      const quickchartButtonEl =\n",
              "        document.querySelector('#' + key + ' button');\n",
              "      quickchartButtonEl.disabled = true;  // To prevent multiple clicks.\n",
              "      quickchartButtonEl.classList.add('colab-df-spinner');\n",
              "      try {\n",
              "        const charts = await google.colab.kernel.invokeFunction(\n",
              "            'suggestCharts', [key], {});\n",
              "      } catch (error) {\n",
              "        console.error('Error during call to suggestCharts:', error);\n",
              "      }\n",
              "      quickchartButtonEl.classList.remove('colab-df-spinner');\n",
              "      quickchartButtonEl.classList.add('colab-df-quickchart-complete');\n",
              "    }\n",
              "    (() => {\n",
              "      let quickchartButtonEl =\n",
              "        document.querySelector('#df-7860470f-16b8-46d0-a2c3-98e22eefe8e4 button');\n",
              "      quickchartButtonEl.style.display =\n",
              "        google.colab.kernel.accessAllowed ? 'block' : 'none';\n",
              "    })();\n",
              "  </script>\n",
              "</div>\n",
              "\n",
              "    </div>\n",
              "  </div>\n"
            ],
            "application/vnd.google.colaboratory.intrinsic+json": {
              "type": "dataframe",
              "summary": "{\n  \"name\": \"#df = df[~(df['payment_type'] == 0)]\",\n  \"rows\": 5,\n  \"fields\": [\n    {\n      \"column\": \"VendorID\",\n      \"properties\": {\n        \"dtype\": \"number\",\n        \"std\": 0,\n        \"min\": 1,\n        \"max\": 2,\n        \"num_unique_values\": 2,\n        \"samples\": [\n          1,\n          2\n        ],\n        \"semantic_type\": \"\",\n        \"description\": \"\"\n      }\n    },\n    {\n      \"column\": \"tpep_pickup_datetime\",\n      \"properties\": {\n        \"dtype\": \"object\",\n        \"num_unique_values\": 5,\n        \"samples\": [\n          \"2023-09-01 16:53:33\",\n          \"2023-09-01 16:55:20\"\n        ],\n        \"semantic_type\": \"\",\n        \"description\": \"\"\n      }\n    },\n    {\n      \"column\": \"tpep_dropoff_datetime\",\n      \"properties\": {\n        \"dtype\": \"object\",\n        \"num_unique_values\": 5,\n        \"samples\": [\n          \"2023-09-01 17:03:59\",\n          \"2023-09-01 17:23:18\"\n        ],\n        \"semantic_type\": \"\",\n        \"description\": \"\"\n      }\n    },\n    {\n      \"column\": \"passenger_count\",\n      \"properties\": {\n        \"dtype\": \"number\",\n        \"std\": 2.16794833886788,\n        \"min\": 1.0,\n        \"max\": 6.0,\n        \"num_unique_values\": 3,\n        \"samples\": [\n          2.0,\n          1.0\n        ],\n        \"semantic_type\": \"\",\n        \"description\": \"\"\n      }\n    },\n    {\n      \"column\": \"trip_distance\",\n      \"properties\": {\n        \"dtype\": \"number\",\n        \"std\": 8.223689561261418,\n        \"min\": 1.1,\n        \"max\": 18.28,\n        \"num_unique_values\": 5,\n        \"samples\": [\n          1.1,\n          11.01\n        ],\n        \"semantic_type\": \"\",\n        \"description\": \"\"\n      }\n    },\n    {\n      \"column\": \"RatecodeID\",\n      \"properties\": {\n        \"dtype\": \"number\",\n        \"std\": 0.5477225575051661,\n        \"min\": 1.0,\n        \"max\": 2.0,\n        \"num_unique_values\": 2,\n        \"samples\": [\n          1.0,\n          2.0\n        ],\n        \"semantic_type\": \"\",\n        \"description\": \"\"\n      }\n    },\n    {\n      \"column\": \"store_and_fwd_flag\",\n      \"properties\": {\n        \"dtype\": \"category\",\n        \"num_unique_values\": 1,\n        \"samples\": [\n          \"N\"\n        ],\n        \"semantic_type\": \"\",\n        \"description\": \"\"\n      }\n    },\n    {\n      \"column\": \"PULocationID\",\n      \"properties\": {\n        \"dtype\": \"number\",\n        \"std\": 20,\n        \"min\": 107,\n        \"max\": 162,\n        \"num_unique_values\": 5,\n        \"samples\": [\n          148\n        ],\n        \"semantic_type\": \"\",\n        \"description\": \"\"\n      }\n    },\n    {\n      \"column\": \"DOLocationID\",\n      \"properties\": {\n        \"dtype\": \"number\",\n        \"std\": 68,\n        \"min\": 65,\n        \"max\": 230,\n        \"num_unique_values\": 5,\n        \"samples\": [\n          114\n        ],\n        \"semantic_type\": \"\",\n        \"description\": \"\"\n      }\n    },\n    {\n      \"column\": \"payment_type\",\n      \"properties\": {\n        \"dtype\": \"number\",\n        \"std\": 0,\n        \"min\": 1,\n        \"max\": 2,\n        \"num_unique_values\": 2,\n        \"samples\": [\n          1\n        ],\n        \"semantic_type\": \"\",\n        \"description\": \"\"\n      }\n    },\n    {\n      \"column\": \"fare_amount\",\n      \"properties\": {\n        \"dtype\": \"number\",\n        \"std\": 26.38753493602614,\n        \"min\": 14.2,\n        \"max\": 78.6,\n        \"num_unique_values\": 4,\n        \"samples\": [\n          14.2\n        ],\n        \"semantic_type\": \"\",\n        \"description\": \"\"\n      }\n    },\n    {\n      \"column\": \"extra\",\n      \"properties\": {\n        \"dtype\": \"number\",\n        \"std\": 2.091650066335189,\n        \"min\": 2.5,\n        \"max\": 7.5,\n        \"num_unique_values\": 3,\n        \"samples\": [\n          5.0\n        ],\n        \"semantic_type\": \"\",\n        \"description\": \"\"\n      }\n    },\n    {\n      \"column\": \"mta_tax\",\n      \"properties\": {\n        \"dtype\": \"number\",\n        \"std\": 0.0,\n        \"min\": 0.5,\n        \"max\": 0.5,\n        \"num_unique_values\": 1,\n        \"samples\": [\n          0.5\n        ],\n        \"semantic_type\": \"\",\n        \"description\": \"\"\n      }\n    },\n    {\n      \"column\": \"tip_amount\",\n      \"properties\": {\n        \"dtype\": \"number\",\n        \"std\": 5.0551953473629485,\n        \"min\": 0.0,\n        \"max\": 12.9,\n        \"num_unique_values\": 5,\n        \"samples\": [\n          8.0\n        ],\n        \"semantic_type\": \"\",\n        \"description\": \"\"\n      }\n    },\n    {\n      \"column\": \"tolls_amount\",\n      \"properties\": {\n        \"dtype\": \"number\",\n        \"std\": 3.8011945490858525,\n        \"min\": 0.0,\n        \"max\": 6.94,\n        \"num_unique_values\": 2,\n        \"samples\": [\n          0.0\n        ],\n        \"semantic_type\": \"\",\n        \"description\": \"\"\n      }\n    },\n    {\n      \"column\": \"improvement_surcharge\",\n      \"properties\": {\n        \"dtype\": \"number\",\n        \"std\": 0.0,\n        \"min\": 1.0,\n        \"max\": 1.0,\n        \"num_unique_values\": 1,\n        \"samples\": [\n          1.0\n        ],\n        \"semantic_type\": \"\",\n        \"description\": \"\"\n      }\n    },\n    {\n      \"column\": \"total_amount\",\n      \"properties\": {\n        \"dtype\": \"number\",\n        \"std\": 28.096993255506895,\n        \"min\": 24.8,\n        \"max\": 94.35,\n        \"num_unique_values\": 5,\n        \"samples\": [\n          87.0\n        ],\n        \"semantic_type\": \"\",\n        \"description\": \"\"\n      }\n    },\n    {\n      \"column\": \"congestion_surcharge\",\n      \"properties\": {\n        \"dtype\": \"number\",\n        \"std\": 1.118033988749895,\n        \"min\": 0.0,\n        \"max\": 2.5,\n        \"num_unique_values\": 2,\n        \"samples\": [\n          0.0\n        ],\n        \"semantic_type\": \"\",\n        \"description\": \"\"\n      }\n    },\n    {\n      \"column\": \"total_airport_fee\",\n      \"properties\": {\n        \"dtype\": \"number\",\n        \"std\": null,\n        \"min\": null,\n        \"max\": null,\n        \"num_unique_values\": 0,\n        \"samples\": [],\n        \"semantic_type\": \"\",\n        \"description\": \"\"\n      }\n    }\n  ]\n}"
            }
          },
          "metadata": {},
          "execution_count": 22
        }
      ]
    },
    {
      "cell_type": "code",
      "execution_count": null,
      "metadata": {
        "id": "XfsOFY5y9-fA"
      },
      "outputs": [],
      "source": [
        "# remove passenger_count > 6\n"
      ]
    },
    {
      "cell_type": "code",
      "execution_count": null,
      "metadata": {
        "id": "FCUNe3tu8bie"
      },
      "outputs": [],
      "source": [
        "# Continue with outlier handling\n",
        "\n",
        "df = df[~(df['trip_distance'] > 250)]\n",
        "\n",
        "df = df[~(df['fare_amount'] < 0)]\n",
        "\n",
        "df = df[~((df['trip_distance'] == 0) & (df['PULocationID'] != df['DOLocationID']))]\n"
      ]
    },
    {
      "cell_type": "code",
      "execution_count": null,
      "metadata": {
        "id": "PuzQXfuT8YKV"
      },
      "outputs": [],
      "source": [
        "# Do any columns need standardising?\n",
        "\n",
        "cols_to_standardize = ['trip_distance', 'fare_amount', 'trip_duration']"
      ]
    },
    {
      "cell_type": "markdown",
      "metadata": {
        "id": "gPpJyFFNffcL"
      },
      "source": [
        "## **3** Exploratory Data Analysis\n",
        "<font color = red>[90 marks]</font> <br>"
      ]
    },
    {
      "cell_type": "code",
      "execution_count": null,
      "metadata": {
        "id": "cl-0PcYTfkqh",
        "colab": {
          "base_uri": "https://localhost:8080/"
        },
        "outputId": "605999ab-664a-4d83-8015-680f96bf01c0"
      },
      "outputs": [
        {
          "output_type": "execute_result",
          "data": {
            "text/plain": [
              "['VendorID',\n",
              " 'tpep_pickup_datetime',\n",
              " 'tpep_dropoff_datetime',\n",
              " 'passenger_count',\n",
              " 'trip_distance',\n",
              " 'RatecodeID',\n",
              " 'store_and_fwd_flag',\n",
              " 'PULocationID',\n",
              " 'DOLocationID',\n",
              " 'payment_type',\n",
              " 'fare_amount',\n",
              " 'extra',\n",
              " 'mta_tax',\n",
              " 'tip_amount',\n",
              " 'tolls_amount',\n",
              " 'improvement_surcharge',\n",
              " 'total_amount',\n",
              " 'congestion_surcharge',\n",
              " 'total_airport_fee']"
            ]
          },
          "metadata": {},
          "execution_count": 25
        }
      ],
      "source": [
        "df.columns.tolist()"
      ]
    },
    {
      "cell_type": "markdown",
      "metadata": {
        "id": "a4N3PvkSTwcN"
      },
      "source": [
        "#### **3.1** General EDA: Finding Patterns and Trends\n",
        "<font color = red>[40 marks]</font> <br>"
      ]
    },
    {
      "cell_type": "markdown",
      "metadata": {
        "id": "9hwonDfZTJO6"
      },
      "source": [
        "**3.1.1** <font color = red>[3 marks]</font> <br>\n",
        "Categorise the varaibles into Numerical or Categorical.\n",
        "* `VendorID`:\n",
        "* `tpep_pickup_datetime`:\n",
        "* `tpep_dropoff_datetime`:\n",
        "* `passenger_count`:\n",
        "* `trip_distance`:\n",
        "* `RatecodeID`:\n",
        "* `PULocationID`:\n",
        "* `DOLocationID`:\n",
        "* `payment_type`:\n",
        "* `pickup_hour`:\n",
        "* `trip_duration`:\n",
        "\n",
        "\n",
        "The following monetary parameters belong in the same category, is it categorical or numerical?\n",
        "\n",
        "\n",
        "* `fare_amount`\n",
        "* `extra`\n",
        "* `mta_tax`\n",
        "* `tip_amount`\n",
        "* `tolls_amount`\n",
        "* `improvement_surcharge`\n",
        "* `total_amount`\n",
        "* `congestion_surcharge`\n",
        "* `airport_fee`"
      ]
    },
    {
      "cell_type": "markdown",
      "metadata": {
        "id": "MbGMjArkiXjL"
      },
      "source": [
        "##### Temporal Analysis"
      ]
    },
    {
      "cell_type": "markdown",
      "metadata": {
        "id": "ZCCbmQ49s2qj"
      },
      "source": [
        "**3.1.2** <font color = red>[5 marks]</font> <br>\n",
        "Analyse the distribution of taxi pickups by hours, days of the week, and months."
      ]
    },
    {
      "cell_type": "code",
      "source": [
        "df['tpep_pickup_datetime'].info()"
      ],
      "metadata": {
        "colab": {
          "base_uri": "https://localhost:8080/"
        },
        "id": "MtJfrHRD-iZD",
        "outputId": "c596e2e6-8f30-476a-c10f-ddcd945a8baa"
      },
      "execution_count": null,
      "outputs": [
        {
          "output_type": "stream",
          "name": "stdout",
          "text": [
            "<class 'pandas.core.series.Series'>\n",
            "Index: 156388 entries, 0 to 158674\n",
            "Series name: tpep_pickup_datetime\n",
            "Non-Null Count   Dtype \n",
            "--------------   ----- \n",
            "156388 non-null  object\n",
            "dtypes: object(1)\n",
            "memory usage: 2.4+ MB\n"
          ]
        }
      ]
    },
    {
      "cell_type": "code",
      "source": [
        "df['tpep_pickup_datetime'] = pd.to_datetime(df['tpep_pickup_datetime'])\n",
        "df['tpep_dropoff_datetime'] = pd.to_datetime(df['tpep_dropoff_datetime'])"
      ],
      "metadata": {
        "id": "FbU6A4w2NdsT"
      },
      "execution_count": null,
      "outputs": []
    },
    {
      "cell_type": "code",
      "execution_count": null,
      "metadata": {
        "id": "RwgWN_MWg0Au",
        "colab": {
          "base_uri": "https://localhost:8080/",
          "height": 442
        },
        "outputId": "bb652e59-42b9-4ddb-fc1a-6ed5d7c9600a"
      },
      "outputs": [
        {
          "output_type": "display_data",
          "data": {
            "text/plain": [
              "<Figure size 1000x600 with 1 Axes>"
            ],
            "image/png": "[encoded data removed]"
          },
          "metadata": {}
        }
      ],
      "source": [
        "# Find and show the hourly trends in taxi pickups\n",
        "\n",
        "df['pickup_hour'] = df['tpep_pickup_datetime'].dt.hour\n",
        "hourly_pickups = df.groupby('pickup_hour').size()\n",
        "\n",
        "# To visualize:\n",
        "hourly_pickups.plot(kind='bar', figsize=(10, 6))\n",
        "plt.xlabel('Hour of Day')\n",
        "plt.ylabel('Number of Pickups')\n",
        "plt.title('Hourly Trends in Taxi Pickups')\n",
        "plt.show()"
      ]
    },
    {
      "cell_type": "code",
      "execution_count": null,
      "metadata": {
        "id": "R64b8zfkG5OK",
        "colab": {
          "base_uri": "https://localhost:8080/",
          "height": 480
        },
        "outputId": "e13aa9dd-9b7c-4622-a9ec-c366fb059980"
      },
      "outputs": [
        {
          "output_type": "display_data",
          "data": {
            "text/plain": [
              "<Figure size 1000x600 with 1 Axes>"
            ],
            "image/png": "[encoded data removed]"
          },
          "metadata": {}
        }
      ],
      "source": [
        "# Find and show the daily trends in taxi pickups (days of the week)\n",
        "\n",
        "df['pickup_day'] = df['tpep_pickup_datetime'].dt.day_name()\n",
        "daily_pickups = df.groupby('pickup_day').size()\n",
        "\n",
        "# Order of days\n",
        "day_order = ['Monday', 'Tuesday', 'Wednesday', 'Thursday', 'Friday', 'Saturday', 'Sunday']\n",
        "\n",
        "# Visualize\n",
        "daily_pickups.loc[day_order].plot(kind='bar', figsize=(10, 6))\n",
        "plt.xlabel('Day of Week')\n",
        "plt.ylabel('Number of Pickups')\n",
        "plt.title('Daily Trends in Taxi Pickups')\n",
        "plt.xticks(rotation=45, ha='right')  # Rotate x-axis labels for better readability\n",
        "plt.show()\n"
      ]
    },
    {
      "cell_type": "code",
      "execution_count": null,
      "metadata": {
        "id": "H7V-jmRQG5hJ",
        "colab": {
          "base_uri": "https://localhost:8080/",
          "height": 477
        },
        "outputId": "ef786467-d9b9-40a2-8b1f-2db9e74ea082"
      },
      "outputs": [
        {
          "output_type": "display_data",
          "data": {
            "text/plain": [
              "<Figure size 1000x600 with 1 Axes>"
            ],
            "image/png": "[encoded data removed]"
          },
          "metadata": {}
        }
      ],
      "source": [
        "# Show the monthly trends in pickups\n",
        "\n",
        "df['pickup_month'] = df['tpep_pickup_datetime'].dt.month_name()\n",
        "monthly_pickups = df.groupby('pickup_month').size()\n",
        "\n",
        "# Order of months\n",
        "month_order = ['January', 'February', 'March', 'April', 'May', 'June',\n",
        "                'July', 'August', 'September', 'October', 'November', 'December']\n",
        "\n",
        "# Visualize\n",
        "monthly_pickups.loc[month_order].plot(kind='bar', figsize=(10, 6))\n",
        "plt.xlabel('Month')\n",
        "plt.ylabel('Number of Pickups')\n",
        "plt.title('Monthly Trends in Taxi Pickups')\n",
        "plt.xticks(rotation=45, ha='right')  # Rotate x-axis labels for better readability\n",
        "plt.show()\n"
      ]
    },
    {
      "cell_type": "markdown",
      "metadata": {
        "id": "23IqsgNjHNpJ"
      },
      "source": [
        "##### Financial Analysis"
      ]
    },
    {
      "cell_type": "markdown",
      "metadata": {
        "id": "fRaO-3NqHSM6"
      },
      "source": [
        "Take a look at the financial parameters like `fare_amount`, `tip_amount`, `total_amount`, and also `trip_distance`. Do these contain zero/negative values?"
      ]
    },
    {
      "cell_type": "code",
      "execution_count": null,
      "metadata": {
        "id": "Z7JUnPeRHRqF",
        "colab": {
          "base_uri": "https://localhost:8080/"
        },
        "outputId": "1c40e2f7-b73c-47df-eff6-dc34733b8036"
      },
      "outputs": [
        {
          "output_type": "stream",
          "name": "stdout",
          "text": [
            "Rows with zero values:\n",
            "         VendorID tpep_pickup_datetime tpep_dropoff_datetime  passenger_count  \\\n",
            "0              2  2023-09-01 16:44:19   2023-09-01 17:53:41              2.0   \n",
            "17             1  2023-09-01 16:14:20   2023-09-01 16:29:08              1.0   \n",
            "19             2  2023-09-01 16:03:34   2023-09-01 16:45:34              1.0   \n",
            "20             2  2023-09-01 16:35:07   2023-09-01 17:49:28              6.0   \n",
            "21             1  2023-09-01 16:28:10   2023-09-01 16:51:45              1.0   \n",
            "...          ...                  ...                   ...              ...   \n",
            "158621         2  2023-11-30 21:04:12   2023-11-30 21:16:25              2.0   \n",
            "158648         2  2023-11-30 21:42:20   2023-11-30 21:56:05              4.0   \n",
            "158660         2  2023-11-30 21:46:59   2023-11-30 21:59:47              1.0   \n",
            "158661         2  2023-11-30 21:23:30   2023-11-30 21:23:37              2.0   \n",
            "158669         2  2023-11-30 21:12:23   2023-11-30 21:26:40              1.0   \n",
            "\n",
            "        trip_distance  RatecodeID store_and_fwd_flag  PULocationID  \\\n",
            "0               17.05         2.0                  N           162   \n",
            "17               2.00         1.0                  N           236   \n",
            "19               9.53         1.0                  N           138   \n",
            "20              20.22         2.0                  N           132   \n",
            "21               3.70        99.0                  N            95   \n",
            "...               ...         ...                ...           ...   \n",
            "158621           1.62         1.0                  N           164   \n",
            "158648           1.30         1.0                  N           164   \n",
            "158660           2.20         1.0                  N           234   \n",
            "158661           0.00         5.0                  N           239   \n",
            "158669           2.41         1.0                  N           170   \n",
            "\n",
            "        DOLocationID  payment_type  ...  mta_tax  tip_amount  tolls_amount  \\\n",
            "0                132             2  ...      0.5         0.0          6.94   \n",
            "17               239             2  ...      0.5         0.0          0.00   \n",
            "19               232             2  ...      0.5         0.0          0.00   \n",
            "20                87             2  ...      0.5         0.0          0.00   \n",
            "21                63             1  ...      0.5         0.0          0.00   \n",
            "...              ...           ...  ...      ...         ...           ...   \n",
            "158621            50             2  ...      0.5         0.0          0.00   \n",
            "158648           233             2  ...      0.5         0.0          0.00   \n",
            "158660           231             1  ...      0.5         0.0          0.00   \n",
            "158661           239             1  ...      0.0         0.0          0.00   \n",
            "158669           144             2  ...      0.5         0.0          0.00   \n",
            "\n",
            "        improvement_surcharge  total_amount  congestion_surcharge  \\\n",
            "0                         1.0         85.94                   2.5   \n",
            "17                        1.0         19.30                   2.5   \n",
            "19                        1.0         58.55                   2.5   \n",
            "20                        1.0         80.75                   2.5   \n",
            "21                        1.0         28.00                   0.0   \n",
            "...                       ...           ...                   ...   \n",
            "158621                    1.0         17.80                   2.5   \n",
            "158648                    1.0         17.80                   2.5   \n",
            "158660                    1.0         18.50                   2.5   \n",
            "158661                    1.0        103.50                   2.5   \n",
            "158669                    1.0         20.60                   2.5   \n",
            "\n",
            "        total_airport_fee  pickup_hour  pickup_day  pickup_month  \n",
            "0                     NaN           16      Friday     September  \n",
            "17                    NaN           16      Friday     September  \n",
            "19                    NaN           16      Friday     September  \n",
            "20                    NaN           16      Friday     September  \n",
            "21                    NaN           16      Friday     September  \n",
            "...                   ...          ...         ...           ...  \n",
            "158621                NaN           21    Thursday      November  \n",
            "158648                NaN           21    Thursday      November  \n",
            "158660                NaN           21    Thursday      November  \n",
            "158661                NaN           21    Thursday      November  \n",
            "158669                NaN           21    Thursday      November  \n",
            "\n",
            "[35331 rows x 22 columns]\n",
            "\n",
            "Rows with negative values:\n",
            " Empty DataFrame\n",
            "Columns: [VendorID, tpep_pickup_datetime, tpep_dropoff_datetime, passenger_count, trip_distance, RatecodeID, store_and_fwd_flag, PULocationID, DOLocationID, payment_type, fare_amount, extra, mta_tax, tip_amount, tolls_amount, improvement_surcharge, total_amount, congestion_surcharge, total_airport_fee, pickup_hour, pickup_day, pickup_month]\n",
            "Index: []\n",
            "\n",
            "[0 rows x 22 columns]\n"
          ]
        }
      ],
      "source": [
        "# Analyse the above parameters\n",
        "\n",
        "# Check for zero values\n",
        "zero_values = df[(df['fare_amount'] == 0) | (df['tip_amount'] == 0) |\n",
        "                 (df['total_amount'] == 0) | (df['trip_distance'] == 0)]\n",
        "\n",
        "# Check for negative values\n",
        "negative_values = df[(df['fare_amount'] < 0) | (df['tip_amount'] < 0) |\n",
        "                     (df['total_amount'] < 0) | (df['trip_distance'] < 0)]\n",
        "\n",
        "# Display the results\n",
        "print(\"Rows with zero values:\\n\", zero_values)\n",
        "print(\"\\nRows with negative values:\\n\", negative_values)"
      ]
    },
    {
      "cell_type": "markdown",
      "metadata": {
        "id": "dbOS_-GDJTyv"
      },
      "source": [
        "Do you think it is beneficial to create a copy DataFrame leaving out the zero values from these?"
      ]
    },
    {
      "cell_type": "markdown",
      "metadata": {
        "id": "YDN14J63o9gV"
      },
      "source": [
        "**3.1.3** <font color = red>[2 marks]</font> <br>\n",
        "Filter out the zero values from the above columns.\n",
        "\n",
        "**Note:** The distance might be 0 in cases where pickup and drop is in the same zone. Do you think it is suitable to drop such cases of zero distance?"
      ]
    },
    {
      "cell_type": "code",
      "execution_count": null,
      "metadata": {
        "id": "5mk7Yp41JqJd"
      },
      "outputs": [],
      "source": [
        "# Create a df with non zero entries for the selected parameters.\n",
        "filtered_df = df[\n",
        "    (df['PULocationID'] == df['DOLocationID']) &\n",
        "    (\n",
        "        (df['fare_amount'] != 0) |\n",
        "        (df['tip_amount'] != 0) |\n",
        "        (df['total_amount'] != 0) |\n",
        "        (df['trip_distance'] != 0)\n",
        "    )\n",
        "]\n"
      ]
    },
    {
      "cell_type": "markdown",
      "metadata": {
        "id": "kJcgwyrtKivH"
      },
      "source": [
        "**3.1.4** <font color = red>[3 marks]</font> <br>\n",
        "Analyse the monthly revenue (`total_amount`) trend"
      ]
    },
    {
      "cell_type": "code",
      "execution_count": null,
      "metadata": {
        "id": "U_gl8rBD6ZH0"
      },
      "outputs": [],
      "source": [
        "# Group data by month and analyse monthly revenue"
      ]
    },
    {
      "cell_type": "markdown",
      "metadata": {
        "id": "3vQHosTZLalB"
      },
      "source": [
        "**3.1.5** <font color = red>[3 marks]</font> <br>\n",
        "Show the proportion of each quarter of the year in the revenue"
      ]
    },
    {
      "cell_type": "code",
      "execution_count": null,
      "metadata": {
        "id": "foV9BpFbVTbu",
        "colab": {
          "base_uri": "https://localhost:8080/",
          "height": 532
        },
        "outputId": "8b8789d0-bca6-4b7e-d1f4-728ece91f649"
      },
      "outputs": [
        {
          "output_type": "stream",
          "name": "stdout",
          "text": [
            "tpep_pickup_datetime\n",
            "1    0.074094\n",
            "2    0.220038\n",
            "3    0.338091\n",
            "4    0.367776\n",
            "Name: total_amount, dtype: float64\n"
          ]
        },
        {
          "output_type": "display_data",
          "data": {
            "text/plain": [
              "<Figure size 640x480 with 1 Axes>"
            ],
            "image/png": "[encoded data removed]"
          },
          "metadata": {}
        }
      ],
      "source": [
        "# Calculate proportion of each quarter\n",
        "quarterly_revenue = df.groupby(df['tpep_pickup_datetime'].dt.quarter)['total_amount'].sum()\n",
        "\n",
        "# Calculate the total revenue for the year\n",
        "total_revenue = quarterly_revenue.sum()\n",
        "\n",
        "# Calculate the proportion of revenue for each quarter\n",
        "quarter_proportions = quarterly_revenue / total_revenue\n",
        "\n",
        "# Display the quarter proportions\n",
        "print(quarter_proportions)\n",
        "\n",
        "# Visualize the proportions using a pie chart\n",
        "quarter_labels = ['Q1', 'Q2', 'Q3', 'Q4']\n",
        "plt.pie(quarter_proportions, labels=quarter_labels, autopct='%1.1f%%', startangle=90)\n",
        "plt.title('Proportion of Revenue by Quarter')\n",
        "plt.show()\n"
      ]
    },
    {
      "cell_type": "markdown",
      "metadata": {
        "id": "JncXEPjBLyHp"
      },
      "source": [
        "**3.1.6** <font color = red>[3 marks]</font> <br>\n",
        "Visualise the relationship between `trip_distance` and `fare_amount`. Also find the correlation value for these two.\n",
        "\n",
        "**Hint:** You can leave out the trips with trip_distance = 0"
      ]
    },
    {
      "cell_type": "code",
      "execution_count": null,
      "metadata": {
        "id": "-z8Fegh_P5At",
        "colab": {
          "base_uri": "https://localhost:8080/",
          "height": 333
        },
        "outputId": "d7fe0018-b1b1-4c98-befa-f105daae54fa"
      },
      "outputs": [
        {
          "output_type": "display_data",
          "data": {
            "text/plain": [
              "<Figure size 600x300 with 1 Axes>"
            ],
            "image/png": "[encoded data removed]"
          },
          "metadata": {}
        }
      ],
      "source": [
        "# Show how trip fare is affected by distance\n",
        "\n",
        "plt.figure(figsize=(6, 3))  # Adjust figure size as needed\n",
        "plt.scatter(df['trip_distance'], df['fare_amount'], alpha=0.5)  # alpha for transparency\n",
        "plt.xlabel('Trip Distance (miles)')\n",
        "plt.ylabel('Fare Amount ($)')\n",
        "plt.title('Relationship between Trip Fare and Distance')\n",
        "plt.grid(True)  # Add a grid for better readability\n",
        "plt.show()\n"
      ]
    },
    {
      "cell_type": "markdown",
      "metadata": {
        "id": "-OGNFTX4QdeS"
      },
      "source": [
        "**3.1.7** <font color = red>[5 marks]</font> <br>\n",
        "Find and visualise the correlation between:\n",
        "1. `fare_amount` and trip duration (pickup time to dropoff time)\n",
        "2. `fare_amount` and `passenger_count`\n",
        "3. `tip_amount` and `trip_distance`"
      ]
    },
    {
      "cell_type": "code",
      "source": [
        "df['trip_duration'] = (df['tpep_dropoff_datetime'] - df['tpep_pickup_datetime']).dt.total_seconds() / 60"
      ],
      "metadata": {
        "id": "jdEShH3CaUql"
      },
      "execution_count": null,
      "outputs": []
    },
    {
      "cell_type": "code",
      "execution_count": null,
      "metadata": {
        "id": "EtSNqFw19TB3",
        "colab": {
          "base_uri": "https://localhost:8080/",
          "height": 443
        },
        "outputId": "4bcffef3-10a2-4def-e2af-babaa31d9fe7"
      },
      "outputs": [
        {
          "output_type": "display_data",
          "data": {
            "text/plain": [
              "<Figure size 1000x600 with 1 Axes>"
            ],
            "image/png": "[encoded data removed]"
          },
          "metadata": {}
        }
      ],
      "source": [
        "# Show relationship between fare and trip duration\n",
        "\n",
        "plt.figure(figsize=(10, 6))\n",
        "plt.scatter(df['trip_duration'], df['fare_amount'], alpha=0.5)\n",
        "plt.xlabel('Trip Duration (minutes)')\n",
        "plt.ylabel('Fare Amount ($)')\n",
        "plt.title('Relationship between Fare and Trip Duration')\n",
        "plt.grid(True)\n",
        "plt.show()"
      ]
    },
    {
      "cell_type": "code",
      "execution_count": null,
      "metadata": {
        "id": "oTrlXiBm9TB3",
        "colab": {
          "base_uri": "https://localhost:8080/",
          "height": 443
        },
        "outputId": "9fb84046-ae40-4d04-ffb6-337978b50c80"
      },
      "outputs": [
        {
          "output_type": "display_data",
          "data": {
            "text/plain": [
              "<Figure size 1000x600 with 1 Axes>"
            ],
            "image/png": "[encoded data removed]"
          },
          "metadata": {}
        }
      ],
      "source": [
        "# Show relationship between fare and number of passengers\n",
        "plt.figure(figsize=(10, 6))\n",
        "sns.boxplot(x='passenger_count', y='fare_amount', data=df)\n",
        "plt.xlabel('Number of Passengers')\n",
        "plt.ylabel('Fare Amount ($)')\n",
        "plt.title('Relationship between Fare and Number of Passengers')\n",
        "plt.grid(True)\n",
        "plt.show()\n"
      ]
    },
    {
      "cell_type": "code",
      "execution_count": null,
      "metadata": {
        "id": "Lph7rakc9TB3",
        "colab": {
          "base_uri": "https://localhost:8080/",
          "height": 448
        },
        "outputId": "5026c374-4dd0-45e4-acdc-4cfce432791b"
      },
      "outputs": [
        {
          "output_type": "display_data",
          "data": {
            "text/plain": [
              "<Figure size 1000x600 with 1 Axes>"
            ],
            "image/png": "[encoded data removed]"
          },
          "metadata": {}
        }
      ],
      "source": [
        "# Show relationship between tip and trip distance\n",
        "plt.figure(figsize=(10, 6))\n",
        "plt.scatter(df['trip_distance'], df['tip_amount'], alpha=0.5)\n",
        "plt.xlabel('Trip Distance (miles)')\n",
        "plt.ylabel('Tip Amount ($)')\n",
        "plt.title('Relationship between Tip and Trip Distance')\n",
        "plt.grid(True)\n",
        "plt.show()"
      ]
    },
    {
      "cell_type": "markdown",
      "metadata": {
        "id": "3EL5CU47QJ5u"
      },
      "source": [
        "**3.1.8** <font color = red>[3 marks]</font> <br>\n",
        "Analyse the distribution of different payment types (`payment_type`)"
      ]
    },
    {
      "cell_type": "code",
      "execution_count": null,
      "metadata": {
        "id": "pknOiYLp9Wnd",
        "colab": {
          "base_uri": "https://localhost:8080/",
          "height": 517
        },
        "outputId": "9877ff4b-e9ba-4235-ab76-3b5996c6b983"
      },
      "outputs": [
        {
          "output_type": "display_data",
          "data": {
            "text/plain": [
              "<Figure size 800x600 with 1 Axes>"
            ],
            "image/png": "[encoded data removed]"
          },
          "metadata": {}
        }
      ],
      "source": [
        "# Analyse the distribution of different payment types (payment_type).\n",
        "\n",
        "\n",
        "payment_type_distribution = df['payment_type'].value_counts(normalize=True)\n",
        "\n",
        "# Create a bar plot\n",
        "plt.figure(figsize=(8, 6))\n",
        "payment_type_distribution.plot(kind='bar')\n",
        "plt.xlabel('Payment Type')\n",
        "plt.ylabel('Proportion')\n",
        "plt.title('Distribution of Payment Types')\n",
        "plt.xticks(rotation=0)  # Keep x-axis labels horizontal\n",
        "plt.tight_layout()  # Adjust layout for better spacing\n",
        "plt.show()"
      ]
    },
    {
      "cell_type": "markdown",
      "metadata": {
        "id": "PxxbUmSZ9Wne"
      },
      "source": [
        "- 1= Credit card\n",
        "- 2= Cash\n",
        "- 3= No charge\n",
        "- 4= Dispute\n",
        "\n"
      ]
    },
    {
      "cell_type": "markdown",
      "metadata": {
        "id": "CVXxcSYHj9sh"
      },
      "source": [
        "##### Geographical Analysis"
      ]
    },
    {
      "cell_type": "markdown",
      "metadata": {
        "id": "tvBXuYW7kEyS"
      },
      "source": [
        "For this, you have to use the *taxi_zones.shp* file from the *taxi_zones* folder.\n",
        "\n",
        "There would be multiple files inside the folder (such as *.shx, .sbx, .sbn* etc). You do not need to import/read any of the files other than the shapefile, *taxi_zones.shp*.\n",
        "\n",
        "Do not change any folder structure - all the files need to be present inside the folder for it to work.\n",
        "\n",
        "The folder structure should look like this:\n",
        "```\n",
        "Taxi Zones\n",
        "|- taxi_zones.shp.xml\n",
        "|- taxi_zones.prj\n",
        "|- taxi_zones.sbn\n",
        "|- taxi_zones.shp\n",
        "|- taxi_zones.dbf\n",
        "|- taxi_zones.shx\n",
        "|- taxi_zones.sbx\n",
        "\n",
        " ```\n",
        "\n",
        " You only need to read the `taxi_zones.shp` file. The *shp* file will utilise the other files by itself."
      ]
    },
    {
      "cell_type": "markdown",
      "metadata": {
        "id": "hR8f8ypXUtxJ"
      },
      "source": [
        "We will use the *GeoPandas* library for geopgraphical analysis\n",
        "```\n",
        "import geopandas as gpd\n",
        "```\n",
        "\n",
        "More about geopandas and shapefiles: [About](https://geopandas.org/en/stable/about.html)\n",
        "\n",
        "\n",
        "Reading the shapefile is very similar to *Pandas*. Use `gpd.read_file()` function to load the data (*taxi_zones.shp*) as a GeoDataFrame. Documentation: [Reading and Writing Files](https://geopandas.org/en/stable/docs/user_guide/io.html)"
      ]
    },
    {
      "cell_type": "code",
      "execution_count": null,
      "metadata": {
        "id": "FJ76QD9IXNz8"
      },
      "outputs": [],
      "source": [
        "# !pip install geopandas"
      ]
    },
    {
      "cell_type": "markdown",
      "metadata": {
        "id": "q_QpZLl_WU-b"
      },
      "source": [
        "**3.1.9** <font color = red>[2 marks]</font> <br>\n",
        "Load the shapefile and display it."
      ]
    },
    {
      "cell_type": "code",
      "execution_count": null,
      "metadata": {
        "id": "hLyVd3TQkCdG"
      },
      "outputs": [],
      "source": [
        "# import geopandas as gpd\n",
        "\n",
        "\n",
        "# Read the shapefile using geopandas\n",
        "zones = # read the .shp file using gpd\n",
        "zones.head()"
      ]
    },
    {
      "cell_type": "markdown",
      "metadata": {
        "id": "8YXJMzRoWxeg"
      },
      "source": [
        "Now, if you look at the DataFrame created, you will see columns like: `OBJECTID`,`Shape_Leng`, `Shape_Area`, `zone`, `LocationID`, `borough`, `geometry`.\n",
        "<br><br>\n",
        "\n",
        "Now, the `locationID` here is also what we are using to mark pickup and drop zones in the trip records.\n",
        "\n",
        "The geometric parameters like shape length, shape area and geometry are used to plot the zones on a map.\n",
        "\n",
        "This can be easily done using the `plot()` method."
      ]
    },
    {
      "cell_type": "code",
      "execution_count": null,
      "metadata": {
        "id": "lTqdZChLYE6H"
      },
      "outputs": [],
      "source": [
        "# print(zones.info())\n",
        "# zones.plot()"
      ]
    },
    {
      "cell_type": "markdown",
      "metadata": {
        "id": "fBkWokLIY_BH"
      },
      "source": [
        "Now, you have to merge the trip records and zones data using the location IDs.\n",
        "\n"
      ]
    },
    {
      "cell_type": "markdown",
      "metadata": {
        "id": "YzUMLUjqaJLN"
      },
      "source": [
        "**3.1.10** <font color = red>[3 marks]</font> <br>\n",
        "Merge the zones data into trip data using the `locationID` and `PULocationID` columns."
      ]
    },
    {
      "cell_type": "code",
      "execution_count": null,
      "metadata": {
        "id": "A2L8hWMQaYkX"
      },
      "outputs": [],
      "source": [
        "# Merge zones and trip records using locationID and PULocationID\n",
        "\n"
      ]
    },
    {
      "cell_type": "markdown",
      "metadata": {
        "id": "9CYc36Weai5-"
      },
      "source": [
        "**3.1.11** <font color = red>[3 marks]</font> <br>\n",
        "Group data by location IDs to find the total number of trips per location ID"
      ]
    },
    {
      "cell_type": "code",
      "execution_count": null,
      "metadata": {
        "id": "XpTIaPSSbwZZ"
      },
      "outputs": [],
      "source": [
        "# Group data by location and calculate the number of trips\n",
        "\n"
      ]
    },
    {
      "cell_type": "markdown",
      "metadata": {
        "id": "As0dVJpdcK2_"
      },
      "source": [
        "**3.1.12** <font color = red>[2 marks]</font> <br>\n",
        "Now, use the grouped data to add number of trips to the GeoDataFrame.\n",
        "\n",
        "We will use this to plot a map of zones showing total trips per zone."
      ]
    },
    {
      "cell_type": "code",
      "execution_count": null,
      "metadata": {
        "id": "H9Sheg7vdZ6q"
      },
      "outputs": [],
      "source": [
        "# Merge trip counts back to the zones GeoDataFrame\n",
        "\n",
        "\n"
      ]
    },
    {
      "cell_type": "markdown",
      "metadata": {
        "id": "DsfomL6Od0_R"
      },
      "source": [
        "The next step is creating a color map (choropleth map) showing zones by the number of trips taken.\n",
        "\n",
        "Again, you can use the `zones.plot()` method for this. [Plot Method GPD](https://geopandas.org/en/stable/docs/reference/api/geopandas.GeoDataFrame.plot.html#geopandas.GeoDataFrame.plot)\n",
        "\n",
        "But first, you need to define the figure and axis for the plot.\n",
        "\n",
        "`fig, ax = plt.subplots(1, 1, figsize = (12, 10))`\n",
        "\n",
        "This function creates a figure (fig) and a single subplot (ax)\n",
        "\n",
        "---"
      ]
    },
    {
      "cell_type": "markdown",
      "metadata": {
        "id": "QgDcw8gUejVk"
      },
      "source": [
        "After setting up the figure and axis, we can proceed to plot the GeoDataFrame on this axis. This is done in the next step where we use the plot method of the GeoDataFrame.\n",
        "\n",
        "You can define the following parameters in the `zones.plot()` method:\n",
        "```\n",
        "column = '',\n",
        "ax = ax,\n",
        "legend = True,\n",
        "legend_kwds = {'label': \"label\", 'orientation': \"<horizontal/vertical>\"}\n",
        "```\n",
        "\n",
        "To display the plot, use `plt.show()`."
      ]
    },
    {
      "cell_type": "markdown",
      "metadata": {
        "id": "xFQmkJipfU1P"
      },
      "source": [
        "**3.1.13** <font color = red>[3 marks]</font> <br>\n",
        "Plot a color-coded map showing zone-wise trips"
      ]
    },
    {
      "cell_type": "code",
      "execution_count": null,
      "metadata": {
        "id": "i506kVTgefM5"
      },
      "outputs": [],
      "source": [
        "# Define figure and axis\n",
        "\n",
        "\n",
        "# Plot the map and display it\n",
        "\n"
      ]
    },
    {
      "cell_type": "code",
      "execution_count": null,
      "metadata": {
        "id": "gwDs7OaBSopP"
      },
      "outputs": [],
      "source": [
        "# can you try displaying the zones DF sorted by the number of trips?\n",
        "\n"
      ]
    },
    {
      "cell_type": "markdown",
      "metadata": {
        "id": "T1bE7-QbgSrZ"
      },
      "source": [
        "Here we have completed the temporal, financial and geographical analysis on the trip records.\n",
        "\n",
        "**Compile your findings from general analysis below:**"
      ]
    },
    {
      "cell_type": "markdown",
      "metadata": {
        "id": "7YiVFIX3gcL3"
      },
      "source": [
        "You can consider the following points:\n",
        "\n",
        "* Busiest hours, days and months\n",
        "* Trends in revenue collected\n",
        "* Trends in quarterly revenue\n",
        "* How fare depends on trip distance, trip duration and passenger counts\n",
        "* How tip amount depends on trip distance\n",
        "* Busiest zones\n"
      ]
    },
    {
      "cell_type": "markdown",
      "metadata": {
        "id": "Rv0oYLcbhOTU"
      },
      "source": [
        "#### **3.2** Detailed EDA: Insights and Strategies\n",
        "<font color = red>[50 marks]</font> <br>"
      ]
    },
    {
      "cell_type": "markdown",
      "metadata": {
        "id": "xWJk-CGihnU1"
      },
      "source": [
        "Having performed basic analyses for finding trends and patterns, we will now move on to some detailed analysis focussed on operational efficiency, pricing strategies, and customer experience."
      ]
    },
    {
      "cell_type": "markdown",
      "metadata": {
        "id": "XBY2Y4Jrz9IQ"
      },
      "source": [
        "##### Operational Efficiency"
      ]
    },
    {
      "cell_type": "markdown",
      "metadata": {
        "id": "BXU8Q3sGjGnE"
      },
      "source": [
        "Analyze variations by time of day and location to identify bottlenecks or inefficiencies in routes"
      ]
    },
    {
      "cell_type": "markdown",
      "metadata": {
        "id": "H97VPqVdq7Lz"
      },
      "source": [
        "**3.2.1** <font color = red>[3 marks]</font> <br>\n",
        "Identify slow routes by calculating the average time taken by cabs to get from one zone to another at different hours of the day."
      ]
    },
    {
      "cell_type": "markdown",
      "metadata": {
        "id": "NzTRZyw2q9IR"
      },
      "source": [
        "Speed on a route *X* for hour *Y* = (*distance of the route X / average trip duration for hour Y*)"
      ]
    },
    {
      "cell_type": "code",
      "execution_count": null,
      "metadata": {
        "id": "Ovf-1vIyhk7E",
        "colab": {
          "base_uri": "https://localhost:8080/"
        },
        "outputId": "6802f08a-f45e-488b-f177-ad1f4411e281"
      },
      "outputs": [
        {
          "output_type": "stream",
          "name": "stdout",
          "text": [
            "                                                avg_duration  avg_distance  \\\n",
            "PULocationID DOLocationID tpep_pickup_datetime                               \n",
            "49           49           0                         0.183333          0.00   \n",
            "17           17           1                         0.400000          0.00   \n",
            "37           37           2                         0.166667          0.00   \n",
            "141          141          3                         0.333333          0.00   \n",
            "4            4            4                         0.100000          0.00   \n",
            "76           76           5                        15.450000          0.00   \n",
            "1            1            6                         0.050000          0.00   \n",
            "                          7                         0.283333          0.00   \n",
            "13           13           8                         0.533333          0.00   \n",
            "265          230          9                        -0.700000         10.85   \n",
            "             170          10                       -0.450000         12.93   \n",
            "             152          11                       -0.100000          1.03   \n",
            "             75           12                       -0.166667          1.47   \n",
            "             69           13                       -0.100000          8.73   \n",
            "             165          14                       -0.366667          6.70   \n",
            "             235          15                       -0.466667          3.80   \n",
            "             66           16                       -0.316667          2.39   \n",
            "7            7            17                        4.533333          0.00   \n",
            "1            1            18                        0.200000          0.00   \n",
            "265          220          19                       -0.266667         14.26   \n",
            "1            1            20                        0.116667          0.00   \n",
            "10           10           21                        0.100000          0.00   \n",
            "3            3            22                        0.133333          0.00   \n",
            "40           40           23                        0.466667          0.00   \n",
            "\n",
            "                                                    speed  \n",
            "PULocationID DOLocationID tpep_pickup_datetime             \n",
            "49           49           0                      0.000000  \n",
            "17           17           1                      0.000000  \n",
            "37           37           2                      0.000000  \n",
            "141          141          3                      0.000000  \n",
            "4            4            4                      0.000000  \n",
            "76           76           5                      0.000000  \n",
            "1            1            6                      0.000000  \n",
            "                          7                      0.000000  \n",
            "13           13           8                      0.000000  \n",
            "265          230          9                    -15.500000  \n",
            "             170          10                   -28.733333  \n",
            "             152          11                   -10.300000  \n",
            "             75           12                    -8.820000  \n",
            "             69           13                   -87.300000  \n",
            "             165          14                   -18.272727  \n",
            "             235          15                    -8.142857  \n",
            "             66           16                    -7.547368  \n",
            "7            7            17                     0.000000  \n",
            "1            1            18                     0.000000  \n",
            "265          220          19                   -53.475000  \n",
            "1            1            20                     0.000000  \n",
            "10           10           21                     0.000000  \n",
            "3            3            22                     0.000000  \n",
            "40           40           23                     0.000000  \n"
          ]
        }
      ],
      "source": [
        "# Find routes which have the slowest speeds at different times of the day\n",
        "\n",
        "df['trip_duration'] = (df['tpep_dropoff_datetime'] - df['tpep_pickup_datetime']).dt.total_seconds() / 60\n",
        "\n",
        "# Group by pickup and dropoff locations and hour of the day\n",
        "route_hourly_data = df.groupby(['PULocationID', 'DOLocationID', df['tpep_pickup_datetime'].dt.hour])\n",
        "\n",
        "# Calculate average trip duration and distance for each route and hour\n",
        "route_hourly_stats = route_hourly_data.agg(\n",
        "    avg_duration=('trip_duration', 'mean'),\n",
        "    avg_distance=('trip_distance', 'mean')\n",
        ")\n",
        "\n",
        "# Calculate speed (distance/duration)\n",
        "route_hourly_stats['speed'] = route_hourly_stats['avg_distance'] / route_hourly_stats['avg_duration']\n",
        "\n",
        "# Find the slowest routes for each hour\n",
        "slowest_routes_by_hour = route_hourly_stats.loc[route_hourly_stats.groupby(level=2)['speed'].idxmin()]\n",
        "\n",
        "# Display the slowest routes\n",
        "print(slowest_routes_by_hour)\n"
      ]
    },
    {
      "cell_type": "markdown",
      "metadata": {
        "id": "NmRPbH3rm2Ub"
      },
      "source": [
        "How does identifying high-traffic, high-demand routes help us?"
      ]
    },
    {
      "cell_type": "markdown",
      "metadata": {
        "id": "7-w-OCB_nLmb"
      },
      "source": [
        "**3.2.2** <font color = red>[3 marks]</font> <br>\n",
        "Calculate the number of trips at each hour of the day and visualise them. Find the busiest hour and show the number of trips for that hour."
      ]
    },
    {
      "cell_type": "code",
      "execution_count": null,
      "metadata": {
        "id": "BEbRCT31nLUw",
        "colab": {
          "base_uri": "https://localhost:8080/",
          "height": 474
        },
        "outputId": "84e6513b-c90f-4be1-a9f8-f6b82a4bad0a"
      },
      "outputs": [
        {
          "output_type": "display_data",
          "data": {
            "text/plain": [
              "<Figure size 1000x600 with 1 Axes>"
            ],
            "image/png": "[encoded data removed]"
          },
          "metadata": {}
        },
        {
          "output_type": "stream",
          "name": "stdout",
          "text": [
            "The busiest hour is: 18\n",
            "Number of trips during the busiest hour: 12035\n"
          ]
        }
      ],
      "source": [
        "# Visualise the number of trips per hour and find the busiest hour\n",
        "\n",
        "hourly_trips = df.groupby(df['tpep_pickup_datetime'].dt.hour)['VendorID'].count()\n",
        "\n",
        "# Create a bar plot\n",
        "plt.figure(figsize=(10, 6))\n",
        "hourly_trips.plot(kind='bar')\n",
        "plt.xlabel('Hour of Day')\n",
        "plt.ylabel('Number of Trips')\n",
        "plt.title('Number of Trips per Hour')\n",
        "plt.xticks(rotation=0)\n",
        "plt.grid(True)\n",
        "plt.show()\n",
        "\n",
        "# Find the busiest hour\n",
        "busiest_hour = hourly_trips.idxmax()\n",
        "print(f\"The busiest hour is: {busiest_hour}\")\n",
        "print(f\"Number of trips during the busiest hour: {hourly_trips.max()}\")"
      ]
    },
    {
      "cell_type": "markdown",
      "metadata": {
        "id": "8FuSAA0zn3F4"
      },
      "source": [
        "Remember, we took a fraction of trips. To find the actual number, you have to scale the number up by the sampling ratio."
      ]
    },
    {
      "cell_type": "markdown",
      "metadata": {
        "id": "bapn075QrKaz"
      },
      "source": [
        "**3.2.3** <font color = red>[2 mark]</font> <br>\n",
        "Find the actual number of trips in the five busiest hours"
      ]
    },
    {
      "cell_type": "code",
      "execution_count": null,
      "metadata": {
        "id": "79Hy-YWOoapQ"
      },
      "outputs": [],
      "source": [
        "# Scale up the number of trips\n",
        "\n",
        "# Fill in the value of your sampling fraction and use that to scale up the numbers\n",
        "sample_fraction =\n",
        "\n"
      ]
    },
    {
      "cell_type": "markdown",
      "metadata": {
        "id": "74fhoLxEoaTP"
      },
      "source": [
        "**3.2.4** <font color = red>[3 marks]</font> <br>\n",
        "Compare hourly traffic pattern on weekdays. Also compare for weekend."
      ]
    },
    {
      "cell_type": "code",
      "execution_count": null,
      "metadata": {
        "id": "sYMmCQHwpFRY",
        "colab": {
          "base_uri": "https://localhost:8080/",
          "height": 378
        },
        "outputId": "49448b79-bdb5-42cc-9bf8-cfeb0cb3b301"
      },
      "outputs": [
        {
          "output_type": "display_data",
          "data": {
            "text/plain": [
              "<Figure size 1200x600 with 1 Axes>"
            ],
            "image/png": "[encoded data removed]"
          },
          "metadata": {}
        }
      ],
      "source": [
        "# Compare traffic trends for the week days and weekends\n",
        "\n",
        "# Create a new column 'day_type' to categorize weekdays and weekends\n",
        "df['day_type'] = df['tpep_pickup_datetime'].dt.day_name().apply(lambda day: 'Weekday' if day in ['Monday', 'Tuesday', 'Wednesday', 'Thursday', 'Friday'] else 'Weekend')\n",
        "\n",
        "# Group by day type and hour of the day and count trips\n",
        "day_type_hourly_trips = df.groupby(['day_type', df['tpep_pickup_datetime'].dt.hour])['VendorID'].count().reset_index()\n",
        "\n",
        "# Create a line plot to visualize the trends\n",
        "plt.figure(figsize=(12, 6))\n",
        "sns.lineplot(x='tpep_pickup_datetime', y='VendorID', hue='day_type', data=day_type_hourly_trips)\n",
        "plt.xlabel('Hour of Day')\n",
        "plt.ylabel('Number of Trips')\n",
        "plt.title('Traffic Trends: Weekdays vs. Weekends')\n",
        "plt.grid(True)\n",
        "plt.show()"
      ]
    },
    {
      "cell_type": "markdown",
      "metadata": {
        "id": "tWeuAulNpSOL"
      },
      "source": [
        "What can you infer from the above patterns? How will finding busy and quiet hours for each day help us?"
      ]
    },
    {
      "cell_type": "markdown",
      "metadata": {
        "id": "-S90VG94rGUm"
      },
      "source": [
        "**3.2.5** <font color = red>[3 marks]</font> <br>\n",
        "Identify top 10 zones with high hourly pickups. Do the same for hourly dropoffs. Show pickup and dropoff trends in these zones."
      ]
    },
    {
      "cell_type": "code",
      "execution_count": null,
      "metadata": {
        "id": "-nJGifJFrslP",
        "colab": {
          "base_uri": "https://localhost:8080/"
        },
        "outputId": "14df6d64-5ae2-4601-df8c-e293c3beecf1"
      },
      "outputs": [
        {
          "output_type": "stream",
          "name": "stdout",
          "text": [
            "Top 10 Pickup Zones:\n",
            "PULocationID\n",
            "132    8019\n",
            "161    7408\n",
            "237    7334\n",
            "236    6481\n",
            "162    5582\n",
            "138    5516\n",
            "186    5294\n",
            "230    5163\n",
            "142    5018\n",
            "170    4708\n",
            "Name: count, dtype: int64\n",
            "\n",
            "Top 10 Dropoff Zones:\n",
            "DOLocationID\n",
            "236    6899\n",
            "237    6543\n",
            "161    6131\n",
            "230    4696\n",
            "170    4644\n",
            "162    4480\n",
            "239    4398\n",
            "142    4330\n",
            "141    4082\n",
            "68     4055\n",
            "Name: count, dtype: int64\n"
          ]
        }
      ],
      "source": [
        "# Find top 10 pickup and dropoff zones\n",
        "\n",
        "top_10_pickup_zones = df['PULocationID'].value_counts().nlargest(10)\n",
        "print(\"Top 10 Pickup Zones:\")\n",
        "print(top_10_pickup_zones)\n",
        "\n",
        "# Top 10 dropoff zones\n",
        "top_10_dropoff_zones = df['DOLocationID'].value_counts().nlargest(10)\n",
        "print(\"\\nTop 10 Dropoff Zones:\")\n",
        "print(top_10_dropoff_zones)"
      ]
    },
    {
      "cell_type": "markdown",
      "metadata": {
        "id": "okkQ17VssMqP"
      },
      "source": [
        "**3.2.6** <font color = red>[3 marks]</font> <br>\n",
        "Find the ratio of pickups and dropoffs in each zone. Display the 10 highest (pickup/drop) and 10 lowest (pickup/drop) ratios."
      ]
    },
    {
      "cell_type": "code",
      "execution_count": null,
      "metadata": {
        "id": "Qbuc8y-KgeDR",
        "colab": {
          "base_uri": "https://localhost:8080/"
        },
        "outputId": "807b26e5-489d-46e3-815e-cd463a0bba32"
      },
      "outputs": [
        {
          "output_type": "stream",
          "name": "stdout",
          "text": [
            "Top 10 Pickup/Dropoff Ratios:\n",
            "     LocationID  pickup_dropoff_ratio\n",
            "67         70.0              8.011494\n",
            "124       132.0              4.484899\n",
            "130       138.0              2.627918\n",
            "178       186.0              1.536274\n",
            "238       249.0              1.336890\n",
            "145       153.0              1.333333\n",
            "106       114.0              1.283125\n",
            "40         43.0              1.251084\n",
            "154       162.0              1.245982\n",
            "153       161.0              1.208286\n",
            "\n",
            "Bottom 10 Pickup/Dropoff Ratios:\n",
            "     LocationID  pickup_dropoff_ratio\n",
            "6           0.0                   0.0\n",
            "7           0.0                   0.0\n",
            "25          0.0                   0.0\n",
            "55          0.0                   0.0\n",
            "56          0.0                   0.0\n",
            "54          0.0                   0.0\n",
            "81          0.0                   0.0\n",
            "70          0.0                   0.0\n",
            "102         0.0                   0.0\n",
            "103         0.0                   0.0\n"
          ]
        }
      ],
      "source": [
        "# Find the top 10 and bottom 10 pickup/dropoff ratios\n",
        "\n",
        "zone_counts = df.groupby('PULocationID')['DOLocationID'].count().reset_index()\n",
        "zone_counts.rename(columns={'DOLocationID': 'pickup_count'}, inplace=True)\n",
        "\n",
        "dropoff_counts = df.groupby('DOLocationID')['PULocationID'].count().reset_index()\n",
        "dropoff_counts.rename(columns={'PULocationID': 'dropoff_count'}, inplace=True)\n",
        "\n",
        "# Merge pickup and dropoff counts\n",
        "zone_ratios = pd.merge(zone_counts, dropoff_counts, left_on='PULocationID', right_on='DOLocationID', how='outer')\n",
        "zone_ratios.drop(columns=['DOLocationID'], inplace=True)  # Remove redundant column\n",
        "zone_ratios.rename(columns={'PULocationID': 'LocationID'}, inplace=True)\n",
        "\n",
        "# Calculate pickup/dropoff ratio\n",
        "zone_ratios['pickup_dropoff_ratio'] = zone_ratios['pickup_count'] / zone_ratios['dropoff_count']\n",
        "\n",
        "# Fill NaN values with 0 (for zones with no pickups or dropoffs)\n",
        "zone_ratios.fillna(0, inplace=True)\n",
        "\n",
        "# Sort by ratio and get top 10 and bottom 10\n",
        "top_10_ratios = zone_ratios.sort_values(by=['pickup_dropoff_ratio'], ascending=False).head(10)\n",
        "bottom_10_ratios = zone_ratios.sort_values(by=['pickup_dropoff_ratio'], ascending=True).head(10)\n",
        "\n",
        "# Print the results\n",
        "print(\"Top 10 Pickup/Dropoff Ratios:\")\n",
        "print(top_10_ratios[['LocationID', 'pickup_dropoff_ratio']])\n",
        "\n",
        "print(\"\\nBottom 10 Pickup/Dropoff Ratios:\")\n",
        "print(bottom_10_ratios[['LocationID', 'pickup_dropoff_ratio']])"
      ]
    },
    {
      "cell_type": "markdown",
      "metadata": {
        "id": "2j1ukv-rrxny"
      },
      "source": [
        "**3.2.7** <font color = red>[3 marks]</font> <br>\n",
        "Identify zones with high pickup and dropoff traffic during night hours (11PM to 5AM)"
      ]
    },
    {
      "cell_type": "code",
      "execution_count": null,
      "metadata": {
        "id": "ve65f0GltyE_"
      },
      "outputs": [],
      "source": [
        "# During night hours (11pm to 5am) find the top 10 pickup and dropoff zones\n",
        "# Note that the top zones should be of night hours and not the overall top zones\n",
        "\n"
      ]
    },
    {
      "cell_type": "markdown",
      "metadata": {
        "id": "OtPTHyhTNnNL"
      },
      "source": [
        "Now, let us find the revenue share for the night time hours and the day time hours. After this, we will move to deciding a pricing strategy.\n",
        "\n",
        "**3.2.8** <font color = red>[2 marks]</font> <br>\n",
        "Find the revenue share for nighttime and daytime hours."
      ]
    },
    {
      "cell_type": "code",
      "execution_count": null,
      "metadata": {
        "id": "0ohk4curNl3g"
      },
      "outputs": [],
      "source": [
        "# Filter for night hours (11 PM to 5 AM)\n",
        "\n"
      ]
    },
    {
      "cell_type": "markdown",
      "metadata": {
        "id": "nG77smP4tyWu"
      },
      "source": [
        "##### Pricing Strategy"
      ]
    },
    {
      "cell_type": "markdown",
      "metadata": {
        "id": "ciF6eThit5IH"
      },
      "source": [
        "**3.2.9** <font color = red>[2 marks]</font> <br>\n",
        "For the different passenger counts, find the average fare per mile per passenger.\n",
        "\n",
        "For instance, suppose the average fare per mile for trips with 3 passengers is 3 USD/mile, then the fare per mile per passenger will be 1 USD/mile."
      ]
    },
    {
      "cell_type": "code",
      "execution_count": null,
      "metadata": {
        "id": "AO7MIuXd9C16"
      },
      "outputs": [],
      "source": [
        "# Analyse the fare per mile per passenger for different passenger counts\n",
        "\n",
        "\n"
      ]
    },
    {
      "cell_type": "markdown",
      "metadata": {
        "id": "WZrN-cxR9DIb"
      },
      "source": [
        "**3.2.10** <font color = red>[3 marks]</font> <br>\n",
        "Find the average fare per mile by hours of the day and by days of the week"
      ]
    },
    {
      "cell_type": "code",
      "execution_count": null,
      "metadata": {
        "id": "hUzCJm2y9SOq"
      },
      "outputs": [],
      "source": [
        "# Compare the average fare per mile for different days and for different times of the day\n",
        "\n"
      ]
    },
    {
      "cell_type": "markdown",
      "metadata": {
        "id": "211WFkhHDUMG"
      },
      "source": [
        "**3.2.11** <font color = red>[3 marks]</font> <br>\n",
        "Analyse the average fare per mile for the different vendors for different hours of the day"
      ]
    },
    {
      "cell_type": "code",
      "execution_count": null,
      "metadata": {
        "id": "my3cGHL1DU04"
      },
      "outputs": [],
      "source": [
        "# Compare fare per mile for different vendors\n",
        "\n"
      ]
    },
    {
      "cell_type": "markdown",
      "metadata": {
        "id": "FH9YJdodtDk4"
      },
      "source": [
        "**3.2.12** <font color = red>[5 marks]</font> <br>\n",
        "Compare the fare rates of the different vendors in a tiered fashion. Analyse the average fare per mile for distances upto 2 miles. Analyse the fare per mile for distances from 2 to 5 miles. And then for distances more than 5 miles.\n"
      ]
    },
    {
      "cell_type": "code",
      "execution_count": null,
      "metadata": {
        "id": "TFRPgO7mgEeT"
      },
      "outputs": [],
      "source": [
        "# Defining distance tiers\n",
        "\n"
      ]
    },
    {
      "cell_type": "markdown",
      "metadata": {
        "id": "M2o6xY0Yh6Gv"
      },
      "source": [
        "##### Customer Experience and Other Factors"
      ]
    },
    {
      "cell_type": "markdown",
      "metadata": {
        "id": "VSneN-rCh6Gw"
      },
      "source": [
        "**3.2.13** <font color = red>[5 marks]</font> <br>\n",
        "Analyse average tip percentages based on trip distances, passenger counts and time of pickup. What factors lead to low tip percentages?"
      ]
    },
    {
      "cell_type": "code",
      "execution_count": null,
      "metadata": {
        "id": "LO5WazK8h6Gx"
      },
      "outputs": [],
      "source": [
        "#  Analyze tip percentages based on distances, passenger counts and pickup times\n",
        "\n"
      ]
    },
    {
      "cell_type": "markdown",
      "metadata": {
        "id": "wQAIQsrcLm6X"
      },
      "source": [
        "Additional analysis [optional]: Let's try comparing cases of low tips with cases of high tips to find out if we find a clear aspect that drives up the tipping behaviours"
      ]
    },
    {
      "cell_type": "code",
      "execution_count": null,
      "metadata": {
        "collapsed": true,
        "id": "QYoUed6Dn6YW",
        "jupyter": {
          "outputs_hidden": true
        }
      },
      "outputs": [],
      "source": [
        "# Compare trips with tip percentage < 10% to trips with tip percentage > 25%\n",
        "\n"
      ]
    },
    {
      "cell_type": "markdown",
      "metadata": {
        "id": "0UjvGTRKh6Gx"
      },
      "source": [
        "**3.2.14** <font color = red>[3 marks]</font> <br>\n",
        "Analyse the variation of passenger count across hours and days of the week."
      ]
    },
    {
      "cell_type": "code",
      "execution_count": null,
      "metadata": {
        "id": "rFP0DNRvh6Gx"
      },
      "outputs": [],
      "source": [
        "# See how passenger count varies across hours and days\n",
        "\n",
        "\n"
      ]
    },
    {
      "cell_type": "markdown",
      "metadata": {
        "id": "zWKLLlb7h6Gy"
      },
      "source": [
        "**3.2.15** <font color = red>[2 marks]</font> <br>\n",
        "Analyse the variation of passenger counts across zones"
      ]
    },
    {
      "cell_type": "code",
      "execution_count": null,
      "metadata": {
        "id": "30h27Uz2h6Gy"
      },
      "outputs": [],
      "source": [
        "# How does passenger count vary across zones\n",
        "\n"
      ]
    },
    {
      "cell_type": "code",
      "execution_count": null,
      "metadata": {
        "id": "C3I0AfOkvBWA"
      },
      "outputs": [],
      "source": [
        "# For a more detailed analysis, we can use the zones_with_trips GeoDataFrame\n",
        "# Create a new column for the average passenger count in each zone.\n",
        "\n"
      ]
    },
    {
      "cell_type": "markdown",
      "metadata": {
        "id": "rw0j5Z-1h6Gz"
      },
      "source": [
        "Find out how often surcharges/extra charges are applied to understand their prevalance"
      ]
    },
    {
      "cell_type": "markdown",
      "metadata": {
        "id": "x9IHjHFBx6Ye"
      },
      "source": [
        "**3.2.16** <font color = red>[5 marks]</font> <br>\n",
        "Analyse the pickup/dropoff zones or times when extra charges are applied more frequently"
      ]
    },
    {
      "cell_type": "code",
      "execution_count": null,
      "metadata": {
        "id": "nKbXwZJwh6Gz"
      },
      "outputs": [],
      "source": [
        "# How often is each surcharge applied?\n",
        "\n"
      ]
    },
    {
      "cell_type": "markdown",
      "metadata": {
        "id": "bkyc9q40Cts-"
      },
      "source": [
        "## **4** Conclusion\n",
        "<font color = red>[15 marks]</font> <br>"
      ]
    },
    {
      "cell_type": "markdown",
      "metadata": {
        "id": "Z5yCODI-C6yR"
      },
      "source": [
        "### **4.1** Final Insights and Recommendations\n",
        "<font color = red>[15 marks]</font> <br>\n",
        "\n",
        "Conclude your analyses here. Include all the outcomes you found based on the analysis.\n",
        "\n",
        "Based on the insights, frame a concluding story explaining suitable parameters such as location, time of the day, day of the week etc. to be kept in mind while devising a strategy to meet customer demand and optimise supply."
      ]
    },
    {
      "cell_type": "markdown",
      "metadata": {
        "id": "0dy8J-C8jJjk"
      },
      "source": [
        "**4.1.1** <font color = red>[5 marks]</font> <br>\n",
        "Recommendations to optimize routing and dispatching based on demand patterns and operational inefficiencies"
      ]
    },
    {
      "cell_type": "code",
      "execution_count": null,
      "metadata": {
        "id": "J03px17x_rD9"
      },
      "outputs": [],
      "source": []
    },
    {
      "cell_type": "markdown",
      "metadata": {
        "id": "AaLgTWxpjt7h"
      },
      "source": [
        "**4.1.2** <font color = red>[5 marks]</font> <br>\n",
        "\n",
        "Suggestions on strategically positioning cabs across different zones to make best use of insights uncovered by analysing trip trends across time, days and months."
      ]
    },
    {
      "cell_type": "code",
      "execution_count": null,
      "metadata": {
        "id": "c8ZbTIF7_rsN"
      },
      "outputs": [],
      "source": []
    },
    {
      "cell_type": "markdown",
      "metadata": {
        "id": "mUU4mn50jMZy"
      },
      "source": [
        "**4.1.3** <font color = red>[5 marks]</font> <br>\n",
        "Propose data-driven adjustments to the pricing strategy to maximize revenue while maintaining competitive rates with other vendors."
      ]
    },
    {
      "cell_type": "code",
      "execution_count": null,
      "metadata": {
        "id": "SXErHFjx_sGN"
      },
      "outputs": [],
      "source": []
    }
  ],
  "metadata": {
    "colab": {
      "collapsed_sections": [
        "-OVfUMlHFkZD",
        "0eaCZjHIvfuI",
        "nG77smP4tyWu",
        "M2o6xY0Yh6Gv"
      ],
      "provenance": [],
      "include_colab_link": true
    },
    "kernelspec": {
      "display_name": "Python [conda env:base] *",
      "language": "python",
      "name": "conda-base-py"
    },
    "language_info": {
      "codemirror_mode": {
        "name": "ipython",
        "version": 3
      },
      "file_extension": ".py",
      "mimetype": "text/x-python",
      "name": "python",
      "nbconvert_exporter": "python",
      "pygments_lexer": "ipython3",
      "version": "3.12.7"
    }
  },
  "nbformat": 4,
  "nbformat_minor": 0
}